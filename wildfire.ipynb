{
 "cells": [
  {
   "cell_type": "code",
   "execution_count": 2,
   "metadata": {},
   "outputs": [],
   "source": [
    "import pandas as pd\n",
    "import numpy as np\n",
    "import matplotlib.pyplot as plt\n",
    "import seaborn as sns\n",
    "\n",
    "import sqlite3 # database \n",
    "\n",
    "%matplotlib inline\n",
    "\n",
    "\n",
    "import warnings\n",
    "warnings.filterwarnings(\"ignore\")\n",
    "\n",
    "\n",
    "#importing function\n",
    "import reduceLabel\n",
    "import labelArson\n",
    "import lebelLightning\n",
    "\n"
   ]
  },
  {
   "cell_type": "code",
   "execution_count": 3,
   "metadata": {},
   "outputs": [],
   "source": [
    "# connecting connection with database\n",
    "conn = sqlite3.connect(\"FPA_FOD_20170508.sqlite\")\n",
    "cursor = conn.cursor()"
   ]
  },
  {
   "cell_type": "code",
   "execution_count": 4,
   "metadata": {},
   "outputs": [
    {
     "data": {
      "text/html": [
       "<div>\n",
       "<style scoped>\n",
       "    .dataframe tbody tr th:only-of-type {\n",
       "        vertical-align: middle;\n",
       "    }\n",
       "\n",
       "    .dataframe tbody tr th {\n",
       "        vertical-align: top;\n",
       "    }\n",
       "\n",
       "    .dataframe thead th {\n",
       "        text-align: right;\n",
       "    }\n",
       "</style>\n",
       "<table border=\"1\" class=\"dataframe\">\n",
       "  <thead>\n",
       "    <tr style=\"text-align: right;\">\n",
       "      <th></th>\n",
       "      <th>type</th>\n",
       "      <th>name</th>\n",
       "      <th>tbl_name</th>\n",
       "      <th>rootpage</th>\n",
       "      <th>sql</th>\n",
       "    </tr>\n",
       "  </thead>\n",
       "  <tbody>\n",
       "    <tr>\n",
       "      <td>0</td>\n",
       "      <td>table</td>\n",
       "      <td>NWCG_UnitIDActive_20170109</td>\n",
       "      <td>NWCG_UnitIDActive_20170109</td>\n",
       "      <td>776416</td>\n",
       "      <td>CREATE TABLE NWCG_UnitIDActive_20170109 (OBJEC...</td>\n",
       "    </tr>\n",
       "    <tr>\n",
       "      <td>1</td>\n",
       "      <td>table</td>\n",
       "      <td>idx_Fires_Shape_parent</td>\n",
       "      <td>idx_Fires_Shape_parent</td>\n",
       "      <td>677303</td>\n",
       "      <td>CREATE TABLE \"idx_Fires_Shape_parent\"(nodeno I...</td>\n",
       "    </tr>\n",
       "    <tr>\n",
       "      <td>2</td>\n",
       "      <td>table</td>\n",
       "      <td>idx_Fires_Shape_rowid</td>\n",
       "      <td>idx_Fires_Shape_rowid</td>\n",
       "      <td>677302</td>\n",
       "      <td>CREATE TABLE \"idx_Fires_Shape_rowid\"(rowid INT...</td>\n",
       "    </tr>\n",
       "    <tr>\n",
       "      <td>3</td>\n",
       "      <td>table</td>\n",
       "      <td>idx_Fires_Shape_node</td>\n",
       "      <td>idx_Fires_Shape_node</td>\n",
       "      <td>677301</td>\n",
       "      <td>CREATE TABLE \"idx_Fires_Shape_node\"(nodeno INT...</td>\n",
       "    </tr>\n",
       "    <tr>\n",
       "      <td>4</td>\n",
       "      <td>table</td>\n",
       "      <td>Fires</td>\n",
       "      <td>Fires</td>\n",
       "      <td>5673</td>\n",
       "      <td>CREATE TABLE Fires (OBJECTID integer primary k...</td>\n",
       "    </tr>\n",
       "  </tbody>\n",
       "</table>\n",
       "</div>"
      ],
      "text/plain": [
       "    type                        name                    tbl_name  rootpage  \\\n",
       "0  table  NWCG_UnitIDActive_20170109  NWCG_UnitIDActive_20170109    776416   \n",
       "1  table      idx_Fires_Shape_parent      idx_Fires_Shape_parent    677303   \n",
       "2  table       idx_Fires_Shape_rowid       idx_Fires_Shape_rowid    677302   \n",
       "3  table        idx_Fires_Shape_node        idx_Fires_Shape_node    677301   \n",
       "4  table                       Fires                       Fires      5673   \n",
       "\n",
       "                                                 sql  \n",
       "0  CREATE TABLE NWCG_UnitIDActive_20170109 (OBJEC...  \n",
       "1  CREATE TABLE \"idx_Fires_Shape_parent\"(nodeno I...  \n",
       "2  CREATE TABLE \"idx_Fires_Shape_rowid\"(rowid INT...  \n",
       "3  CREATE TABLE \"idx_Fires_Shape_node\"(nodeno INT...  \n",
       "4  CREATE TABLE Fires (OBJECTID integer primary k...  "
      ]
     },
     "execution_count": 4,
     "metadata": {},
     "output_type": "execute_result"
    }
   ],
   "source": [
    "# checking required table from master databse \n",
    "df_table = pd.read_sql_query(\"select * from sqlite_master where type = 'table' order by rootpage desc\",conn)\n",
    "df_table.head(5)"
   ]
  },
  {
   "cell_type": "code",
   "execution_count": 6,
   "metadata": {},
   "outputs": [
    {
     "data": {
      "text/html": [
       "<div>\n",
       "<style scoped>\n",
       "    .dataframe tbody tr th:only-of-type {\n",
       "        vertical-align: middle;\n",
       "    }\n",
       "\n",
       "    .dataframe tbody tr th {\n",
       "        vertical-align: top;\n",
       "    }\n",
       "\n",
       "    .dataframe thead th {\n",
       "        text-align: right;\n",
       "    }\n",
       "</style>\n",
       "<table border=\"1\" class=\"dataframe\">\n",
       "  <thead>\n",
       "    <tr style=\"text-align: right;\">\n",
       "      <th></th>\n",
       "      <th>OBJECTID</th>\n",
       "      <th>FOD_ID</th>\n",
       "      <th>FPA_ID</th>\n",
       "      <th>SOURCE_SYSTEM_TYPE</th>\n",
       "      <th>SOURCE_SYSTEM</th>\n",
       "      <th>NWCG_REPORTING_AGENCY</th>\n",
       "      <th>NWCG_REPORTING_UNIT_ID</th>\n",
       "      <th>NWCG_REPORTING_UNIT_NAME</th>\n",
       "      <th>SOURCE_REPORTING_UNIT</th>\n",
       "      <th>SOURCE_REPORTING_UNIT_NAME</th>\n",
       "      <th>...</th>\n",
       "      <th>FIRE_SIZE_CLASS</th>\n",
       "      <th>LATITUDE</th>\n",
       "      <th>LONGITUDE</th>\n",
       "      <th>OWNER_CODE</th>\n",
       "      <th>OWNER_DESCR</th>\n",
       "      <th>STATE</th>\n",
       "      <th>COUNTY</th>\n",
       "      <th>FIPS_CODE</th>\n",
       "      <th>FIPS_NAME</th>\n",
       "      <th>Shape</th>\n",
       "    </tr>\n",
       "  </thead>\n",
       "  <tbody>\n",
       "    <tr>\n",
       "      <td>0</td>\n",
       "      <td>1</td>\n",
       "      <td>1</td>\n",
       "      <td>FS-1418826</td>\n",
       "      <td>FED</td>\n",
       "      <td>FS-FIRESTAT</td>\n",
       "      <td>FS</td>\n",
       "      <td>USCAPNF</td>\n",
       "      <td>Plumas National Forest</td>\n",
       "      <td>0511</td>\n",
       "      <td>Plumas National Forest</td>\n",
       "      <td>...</td>\n",
       "      <td>A</td>\n",
       "      <td>40.036944</td>\n",
       "      <td>-121.005833</td>\n",
       "      <td>5.0</td>\n",
       "      <td>USFS</td>\n",
       "      <td>CA</td>\n",
       "      <td>63</td>\n",
       "      <td>063</td>\n",
       "      <td>Plumas</td>\n",
       "      <td>b'\\x00\\x01\\xad\\x10\\x00\\x00\\xe8d\\xc2\\x92_@^\\xc0...</td>\n",
       "    </tr>\n",
       "    <tr>\n",
       "      <td>1</td>\n",
       "      <td>2</td>\n",
       "      <td>2</td>\n",
       "      <td>FS-1418827</td>\n",
       "      <td>FED</td>\n",
       "      <td>FS-FIRESTAT</td>\n",
       "      <td>FS</td>\n",
       "      <td>USCAENF</td>\n",
       "      <td>Eldorado National Forest</td>\n",
       "      <td>0503</td>\n",
       "      <td>Eldorado National Forest</td>\n",
       "      <td>...</td>\n",
       "      <td>A</td>\n",
       "      <td>38.933056</td>\n",
       "      <td>-120.404444</td>\n",
       "      <td>5.0</td>\n",
       "      <td>USFS</td>\n",
       "      <td>CA</td>\n",
       "      <td>61</td>\n",
       "      <td>061</td>\n",
       "      <td>Placer</td>\n",
       "      <td>b'\\x00\\x01\\xad\\x10\\x00\\x00T\\xb6\\xeej\\xe2\\x19^\\...</td>\n",
       "    </tr>\n",
       "    <tr>\n",
       "      <td>2</td>\n",
       "      <td>3</td>\n",
       "      <td>3</td>\n",
       "      <td>FS-1418835</td>\n",
       "      <td>FED</td>\n",
       "      <td>FS-FIRESTAT</td>\n",
       "      <td>FS</td>\n",
       "      <td>USCAENF</td>\n",
       "      <td>Eldorado National Forest</td>\n",
       "      <td>0503</td>\n",
       "      <td>Eldorado National Forest</td>\n",
       "      <td>...</td>\n",
       "      <td>A</td>\n",
       "      <td>38.984167</td>\n",
       "      <td>-120.735556</td>\n",
       "      <td>13.0</td>\n",
       "      <td>STATE OR PRIVATE</td>\n",
       "      <td>CA</td>\n",
       "      <td>17</td>\n",
       "      <td>017</td>\n",
       "      <td>El Dorado</td>\n",
       "      <td>b'\\x00\\x01\\xad\\x10\\x00\\x00\\xd0\\xa5\\xa0W\\x13/^\\...</td>\n",
       "    </tr>\n",
       "    <tr>\n",
       "      <td>3</td>\n",
       "      <td>4</td>\n",
       "      <td>4</td>\n",
       "      <td>FS-1418845</td>\n",
       "      <td>FED</td>\n",
       "      <td>FS-FIRESTAT</td>\n",
       "      <td>FS</td>\n",
       "      <td>USCAENF</td>\n",
       "      <td>Eldorado National Forest</td>\n",
       "      <td>0503</td>\n",
       "      <td>Eldorado National Forest</td>\n",
       "      <td>...</td>\n",
       "      <td>A</td>\n",
       "      <td>38.559167</td>\n",
       "      <td>-119.913333</td>\n",
       "      <td>5.0</td>\n",
       "      <td>USFS</td>\n",
       "      <td>CA</td>\n",
       "      <td>3</td>\n",
       "      <td>003</td>\n",
       "      <td>Alpine</td>\n",
       "      <td>b'\\x00\\x01\\xad\\x10\\x00\\x00\\x94\\xac\\xa3\\rt\\xfa]...</td>\n",
       "    </tr>\n",
       "    <tr>\n",
       "      <td>4</td>\n",
       "      <td>5</td>\n",
       "      <td>5</td>\n",
       "      <td>FS-1418847</td>\n",
       "      <td>FED</td>\n",
       "      <td>FS-FIRESTAT</td>\n",
       "      <td>FS</td>\n",
       "      <td>USCAENF</td>\n",
       "      <td>Eldorado National Forest</td>\n",
       "      <td>0503</td>\n",
       "      <td>Eldorado National Forest</td>\n",
       "      <td>...</td>\n",
       "      <td>A</td>\n",
       "      <td>38.559167</td>\n",
       "      <td>-119.933056</td>\n",
       "      <td>5.0</td>\n",
       "      <td>USFS</td>\n",
       "      <td>CA</td>\n",
       "      <td>3</td>\n",
       "      <td>003</td>\n",
       "      <td>Alpine</td>\n",
       "      <td>b'\\x00\\x01\\xad\\x10\\x00\\x00@\\xe3\\xaa.\\xb7\\xfb]\\...</td>\n",
       "    </tr>\n",
       "    <tr>\n",
       "      <td>...</td>\n",
       "      <td>...</td>\n",
       "      <td>...</td>\n",
       "      <td>...</td>\n",
       "      <td>...</td>\n",
       "      <td>...</td>\n",
       "      <td>...</td>\n",
       "      <td>...</td>\n",
       "      <td>...</td>\n",
       "      <td>...</td>\n",
       "      <td>...</td>\n",
       "      <td>...</td>\n",
       "      <td>...</td>\n",
       "      <td>...</td>\n",
       "      <td>...</td>\n",
       "      <td>...</td>\n",
       "      <td>...</td>\n",
       "      <td>...</td>\n",
       "      <td>...</td>\n",
       "      <td>...</td>\n",
       "      <td>...</td>\n",
       "      <td>...</td>\n",
       "    </tr>\n",
       "    <tr>\n",
       "      <td>1880460</td>\n",
       "      <td>1880461</td>\n",
       "      <td>300348363</td>\n",
       "      <td>2015CAIRS29019636</td>\n",
       "      <td>NONFED</td>\n",
       "      <td>ST-CACDF</td>\n",
       "      <td>ST/C&amp;L</td>\n",
       "      <td>USCASHU</td>\n",
       "      <td>Shasta-Trinity Unit</td>\n",
       "      <td>CASHU</td>\n",
       "      <td>Shasta-Trinity Unit</td>\n",
       "      <td>...</td>\n",
       "      <td>A</td>\n",
       "      <td>40.481637</td>\n",
       "      <td>-122.389375</td>\n",
       "      <td>13.0</td>\n",
       "      <td>STATE OR PRIVATE</td>\n",
       "      <td>CA</td>\n",
       "      <td>None</td>\n",
       "      <td>None</td>\n",
       "      <td>None</td>\n",
       "      <td>b'\\x00\\x01\\xad\\x10\\x00\\x00P\\xb8\\x1e\\x85\\xeb\\x9...</td>\n",
       "    </tr>\n",
       "    <tr>\n",
       "      <td>1880461</td>\n",
       "      <td>1880462</td>\n",
       "      <td>300348373</td>\n",
       "      <td>2015CAIRS29217935</td>\n",
       "      <td>NONFED</td>\n",
       "      <td>ST-CACDF</td>\n",
       "      <td>ST/C&amp;L</td>\n",
       "      <td>USCATCU</td>\n",
       "      <td>Tuolumne-Calaveras Unit</td>\n",
       "      <td>CATCU</td>\n",
       "      <td>Tuolumne-Calaveras Unit</td>\n",
       "      <td>...</td>\n",
       "      <td>A</td>\n",
       "      <td>37.617619</td>\n",
       "      <td>-120.938570</td>\n",
       "      <td>12.0</td>\n",
       "      <td>MUNICIPAL/LOCAL</td>\n",
       "      <td>CA</td>\n",
       "      <td>None</td>\n",
       "      <td>None</td>\n",
       "      <td>None</td>\n",
       "      <td>b'\\x00\\x01\\xad\\x10\\x00\\x00\\x00\\x80\\xbe\\x88\\x11...</td>\n",
       "    </tr>\n",
       "    <tr>\n",
       "      <td>1880462</td>\n",
       "      <td>1880463</td>\n",
       "      <td>300348375</td>\n",
       "      <td>2015CAIRS28364460</td>\n",
       "      <td>NONFED</td>\n",
       "      <td>ST-CACDF</td>\n",
       "      <td>ST/C&amp;L</td>\n",
       "      <td>USCATCU</td>\n",
       "      <td>Tuolumne-Calaveras Unit</td>\n",
       "      <td>CATCU</td>\n",
       "      <td>Tuolumne-Calaveras Unit</td>\n",
       "      <td>...</td>\n",
       "      <td>A</td>\n",
       "      <td>37.617619</td>\n",
       "      <td>-120.938570</td>\n",
       "      <td>12.0</td>\n",
       "      <td>MUNICIPAL/LOCAL</td>\n",
       "      <td>CA</td>\n",
       "      <td>None</td>\n",
       "      <td>None</td>\n",
       "      <td>None</td>\n",
       "      <td>b'\\x00\\x01\\xad\\x10\\x00\\x00\\x00\\x80\\xbe\\x88\\x11...</td>\n",
       "    </tr>\n",
       "    <tr>\n",
       "      <td>1880463</td>\n",
       "      <td>1880464</td>\n",
       "      <td>300348377</td>\n",
       "      <td>2015CAIRS29218079</td>\n",
       "      <td>NONFED</td>\n",
       "      <td>ST-CACDF</td>\n",
       "      <td>ST/C&amp;L</td>\n",
       "      <td>USCATCU</td>\n",
       "      <td>Tuolumne-Calaveras Unit</td>\n",
       "      <td>CATCU</td>\n",
       "      <td>Tuolumne-Calaveras Unit</td>\n",
       "      <td>...</td>\n",
       "      <td>B</td>\n",
       "      <td>37.672235</td>\n",
       "      <td>-120.898356</td>\n",
       "      <td>12.0</td>\n",
       "      <td>MUNICIPAL/LOCAL</td>\n",
       "      <td>CA</td>\n",
       "      <td>None</td>\n",
       "      <td>None</td>\n",
       "      <td>None</td>\n",
       "      <td>b'\\x00\\x01\\xad\\x10\\x00\\x00x\\xba_\\xaa~9^\\xc0\\xb...</td>\n",
       "    </tr>\n",
       "    <tr>\n",
       "      <td>1880464</td>\n",
       "      <td>1880465</td>\n",
       "      <td>300348399</td>\n",
       "      <td>2015CAIRS26733926</td>\n",
       "      <td>NONFED</td>\n",
       "      <td>ST-CACDF</td>\n",
       "      <td>ST/C&amp;L</td>\n",
       "      <td>USCABDU</td>\n",
       "      <td>San Bernardino Unit</td>\n",
       "      <td>CABDU</td>\n",
       "      <td>CDF - San Bernardino Unit</td>\n",
       "      <td>...</td>\n",
       "      <td>A</td>\n",
       "      <td>34.263217</td>\n",
       "      <td>-116.830950</td>\n",
       "      <td>13.0</td>\n",
       "      <td>STATE OR PRIVATE</td>\n",
       "      <td>CA</td>\n",
       "      <td>None</td>\n",
       "      <td>None</td>\n",
       "      <td>None</td>\n",
       "      <td>b'\\x00\\x01\\xad\\x10\\x00\\x00\\x1c\\xa7\\xe8H.5]\\xc0...</td>\n",
       "    </tr>\n",
       "  </tbody>\n",
       "</table>\n",
       "<p>1880465 rows × 39 columns</p>\n",
       "</div>"
      ],
      "text/plain": [
       "         OBJECTID     FOD_ID             FPA_ID SOURCE_SYSTEM_TYPE  \\\n",
       "0               1          1         FS-1418826                FED   \n",
       "1               2          2         FS-1418827                FED   \n",
       "2               3          3         FS-1418835                FED   \n",
       "3               4          4         FS-1418845                FED   \n",
       "4               5          5         FS-1418847                FED   \n",
       "...           ...        ...                ...                ...   \n",
       "1880460   1880461  300348363  2015CAIRS29019636             NONFED   \n",
       "1880461   1880462  300348373  2015CAIRS29217935             NONFED   \n",
       "1880462   1880463  300348375  2015CAIRS28364460             NONFED   \n",
       "1880463   1880464  300348377  2015CAIRS29218079             NONFED   \n",
       "1880464   1880465  300348399  2015CAIRS26733926             NONFED   \n",
       "\n",
       "        SOURCE_SYSTEM NWCG_REPORTING_AGENCY NWCG_REPORTING_UNIT_ID  \\\n",
       "0         FS-FIRESTAT                    FS                USCAPNF   \n",
       "1         FS-FIRESTAT                    FS                USCAENF   \n",
       "2         FS-FIRESTAT                    FS                USCAENF   \n",
       "3         FS-FIRESTAT                    FS                USCAENF   \n",
       "4         FS-FIRESTAT                    FS                USCAENF   \n",
       "...               ...                   ...                    ...   \n",
       "1880460      ST-CACDF                ST/C&L                USCASHU   \n",
       "1880461      ST-CACDF                ST/C&L                USCATCU   \n",
       "1880462      ST-CACDF                ST/C&L                USCATCU   \n",
       "1880463      ST-CACDF                ST/C&L                USCATCU   \n",
       "1880464      ST-CACDF                ST/C&L                USCABDU   \n",
       "\n",
       "         NWCG_REPORTING_UNIT_NAME SOURCE_REPORTING_UNIT  \\\n",
       "0          Plumas National Forest                  0511   \n",
       "1        Eldorado National Forest                  0503   \n",
       "2        Eldorado National Forest                  0503   \n",
       "3        Eldorado National Forest                  0503   \n",
       "4        Eldorado National Forest                  0503   \n",
       "...                           ...                   ...   \n",
       "1880460       Shasta-Trinity Unit                 CASHU   \n",
       "1880461   Tuolumne-Calaveras Unit                 CATCU   \n",
       "1880462   Tuolumne-Calaveras Unit                 CATCU   \n",
       "1880463   Tuolumne-Calaveras Unit                 CATCU   \n",
       "1880464       San Bernardino Unit                 CABDU   \n",
       "\n",
       "        SOURCE_REPORTING_UNIT_NAME  ... FIRE_SIZE_CLASS   LATITUDE  \\\n",
       "0           Plumas National Forest  ...               A  40.036944   \n",
       "1         Eldorado National Forest  ...               A  38.933056   \n",
       "2         Eldorado National Forest  ...               A  38.984167   \n",
       "3         Eldorado National Forest  ...               A  38.559167   \n",
       "4         Eldorado National Forest  ...               A  38.559167   \n",
       "...                            ...  ...             ...        ...   \n",
       "1880460        Shasta-Trinity Unit  ...               A  40.481637   \n",
       "1880461    Tuolumne-Calaveras Unit  ...               A  37.617619   \n",
       "1880462    Tuolumne-Calaveras Unit  ...               A  37.617619   \n",
       "1880463    Tuolumne-Calaveras Unit  ...               B  37.672235   \n",
       "1880464  CDF - San Bernardino Unit  ...               A  34.263217   \n",
       "\n",
       "          LONGITUDE OWNER_CODE       OWNER_DESCR STATE COUNTY FIPS_CODE  \\\n",
       "0       -121.005833        5.0              USFS    CA     63       063   \n",
       "1       -120.404444        5.0              USFS    CA     61       061   \n",
       "2       -120.735556       13.0  STATE OR PRIVATE    CA     17       017   \n",
       "3       -119.913333        5.0              USFS    CA      3       003   \n",
       "4       -119.933056        5.0              USFS    CA      3       003   \n",
       "...             ...        ...               ...   ...    ...       ...   \n",
       "1880460 -122.389375       13.0  STATE OR PRIVATE    CA   None      None   \n",
       "1880461 -120.938570       12.0   MUNICIPAL/LOCAL    CA   None      None   \n",
       "1880462 -120.938570       12.0   MUNICIPAL/LOCAL    CA   None      None   \n",
       "1880463 -120.898356       12.0   MUNICIPAL/LOCAL    CA   None      None   \n",
       "1880464 -116.830950       13.0  STATE OR PRIVATE    CA   None      None   \n",
       "\n",
       "         FIPS_NAME                                              Shape  \n",
       "0           Plumas  b'\\x00\\x01\\xad\\x10\\x00\\x00\\xe8d\\xc2\\x92_@^\\xc0...  \n",
       "1           Placer  b'\\x00\\x01\\xad\\x10\\x00\\x00T\\xb6\\xeej\\xe2\\x19^\\...  \n",
       "2        El Dorado  b'\\x00\\x01\\xad\\x10\\x00\\x00\\xd0\\xa5\\xa0W\\x13/^\\...  \n",
       "3           Alpine  b'\\x00\\x01\\xad\\x10\\x00\\x00\\x94\\xac\\xa3\\rt\\xfa]...  \n",
       "4           Alpine  b'\\x00\\x01\\xad\\x10\\x00\\x00@\\xe3\\xaa.\\xb7\\xfb]\\...  \n",
       "...            ...                                                ...  \n",
       "1880460       None  b'\\x00\\x01\\xad\\x10\\x00\\x00P\\xb8\\x1e\\x85\\xeb\\x9...  \n",
       "1880461       None  b'\\x00\\x01\\xad\\x10\\x00\\x00\\x00\\x80\\xbe\\x88\\x11...  \n",
       "1880462       None  b'\\x00\\x01\\xad\\x10\\x00\\x00\\x00\\x80\\xbe\\x88\\x11...  \n",
       "1880463       None  b'\\x00\\x01\\xad\\x10\\x00\\x00x\\xba_\\xaa~9^\\xc0\\xb...  \n",
       "1880464       None  b'\\x00\\x01\\xad\\x10\\x00\\x00\\x1c\\xa7\\xe8H.5]\\xc0...  \n",
       "\n",
       "[1880465 rows x 39 columns]"
      ]
     },
     "execution_count": 6,
     "metadata": {},
     "output_type": "execute_result"
    }
   ],
   "source": [
    "# checking features in Fire table\n",
    "df_fire = pd.read_sql_query(\"Select * from fires\",conn)\n",
    "df_fire"
   ]
  },
  {
   "cell_type": "code",
   "execution_count": 7,
   "metadata": {},
   "outputs": [
    {
     "name": "stdout",
     "output_type": "stream",
     "text": [
      "['OBJECTID', 'FOD_ID', 'FPA_ID', 'SOURCE_SYSTEM_TYPE', 'SOURCE_SYSTEM', 'NWCG_REPORTING_AGENCY', 'NWCG_REPORTING_UNIT_ID', 'NWCG_REPORTING_UNIT_NAME', 'SOURCE_REPORTING_UNIT', 'SOURCE_REPORTING_UNIT_NAME', 'LOCAL_FIRE_REPORT_ID', 'LOCAL_INCIDENT_ID', 'FIRE_CODE', 'FIRE_NAME', 'ICS_209_INCIDENT_NUMBER', 'ICS_209_NAME', 'MTBS_ID', 'MTBS_FIRE_NAME', 'COMPLEX_NAME', 'FIRE_YEAR', 'DISCOVERY_DATE', 'DISCOVERY_DOY', 'DISCOVERY_TIME', 'STAT_CAUSE_CODE', 'STAT_CAUSE_DESCR', 'CONT_DATE', 'CONT_DOY', 'CONT_TIME', 'FIRE_SIZE', 'FIRE_SIZE_CLASS', 'LATITUDE', 'LONGITUDE', 'OWNER_CODE', 'OWNER_DESCR', 'STATE', 'COUNTY', 'FIPS_CODE', 'FIPS_NAME', 'Shape']\n"
     ]
    }
   ],
   "source": [
    "# printing out all features name in fires table\n",
    "cursor.execute(\"Select * from fires\")\n",
    "columns_list =[ item[0] for item in cursor.description ]\n",
    "print(columns_list ) "
   ]
  },
  {
   "cell_type": "code",
   "execution_count": 8,
   "metadata": {},
   "outputs": [],
   "source": [
    "# query on fire table with importances featues base on poject objective \n",
    "df_original = pd.read_sql_query(\"\"\"select FIRE_YEAR ,NWCG_REPORTING_AGENCY,\n",
    "                                STAT_CAUSE_DESCR, FIRE_SIZE,\n",
    "                                LATITUDE,LONGITUDE,\n",
    "                                STATE,DISCOVERY_DATE from Fires \"\"\",conn )\n",
    "\n"
   ]
  },
  {
   "cell_type": "code",
   "execution_count": 9,
   "metadata": {},
   "outputs": [
    {
     "data": {
      "text/html": [
       "<div>\n",
       "<style scoped>\n",
       "    .dataframe tbody tr th:only-of-type {\n",
       "        vertical-align: middle;\n",
       "    }\n",
       "\n",
       "    .dataframe tbody tr th {\n",
       "        vertical-align: top;\n",
       "    }\n",
       "\n",
       "    .dataframe thead th {\n",
       "        text-align: right;\n",
       "    }\n",
       "</style>\n",
       "<table border=\"1\" class=\"dataframe\">\n",
       "  <thead>\n",
       "    <tr style=\"text-align: right;\">\n",
       "      <th></th>\n",
       "      <th>FIRE_YEAR</th>\n",
       "      <th>NWCG_REPORTING_AGENCY</th>\n",
       "      <th>STAT_CAUSE_DESCR</th>\n",
       "      <th>FIRE_SIZE</th>\n",
       "      <th>LATITUDE</th>\n",
       "      <th>LONGITUDE</th>\n",
       "      <th>STATE</th>\n",
       "      <th>DISCOVERY_DATE</th>\n",
       "    </tr>\n",
       "  </thead>\n",
       "  <tbody>\n",
       "    <tr>\n",
       "      <td>0</td>\n",
       "      <td>2005</td>\n",
       "      <td>FS</td>\n",
       "      <td>Miscellaneous</td>\n",
       "      <td>0.10</td>\n",
       "      <td>40.036944</td>\n",
       "      <td>-121.005833</td>\n",
       "      <td>CA</td>\n",
       "      <td>2453403.5</td>\n",
       "    </tr>\n",
       "    <tr>\n",
       "      <td>1</td>\n",
       "      <td>2004</td>\n",
       "      <td>FS</td>\n",
       "      <td>Lightning</td>\n",
       "      <td>0.25</td>\n",
       "      <td>38.933056</td>\n",
       "      <td>-120.404444</td>\n",
       "      <td>CA</td>\n",
       "      <td>2453137.5</td>\n",
       "    </tr>\n",
       "    <tr>\n",
       "      <td>2</td>\n",
       "      <td>2004</td>\n",
       "      <td>FS</td>\n",
       "      <td>Debris Burning</td>\n",
       "      <td>0.10</td>\n",
       "      <td>38.984167</td>\n",
       "      <td>-120.735556</td>\n",
       "      <td>CA</td>\n",
       "      <td>2453156.5</td>\n",
       "    </tr>\n",
       "    <tr>\n",
       "      <td>3</td>\n",
       "      <td>2004</td>\n",
       "      <td>FS</td>\n",
       "      <td>Lightning</td>\n",
       "      <td>0.10</td>\n",
       "      <td>38.559167</td>\n",
       "      <td>-119.913333</td>\n",
       "      <td>CA</td>\n",
       "      <td>2453184.5</td>\n",
       "    </tr>\n",
       "    <tr>\n",
       "      <td>4</td>\n",
       "      <td>2004</td>\n",
       "      <td>FS</td>\n",
       "      <td>Lightning</td>\n",
       "      <td>0.10</td>\n",
       "      <td>38.559167</td>\n",
       "      <td>-119.933056</td>\n",
       "      <td>CA</td>\n",
       "      <td>2453184.5</td>\n",
       "    </tr>\n",
       "    <tr>\n",
       "      <td>...</td>\n",
       "      <td>...</td>\n",
       "      <td>...</td>\n",
       "      <td>...</td>\n",
       "      <td>...</td>\n",
       "      <td>...</td>\n",
       "      <td>...</td>\n",
       "      <td>...</td>\n",
       "      <td>...</td>\n",
       "    </tr>\n",
       "    <tr>\n",
       "      <td>1880460</td>\n",
       "      <td>2015</td>\n",
       "      <td>ST/C&amp;L</td>\n",
       "      <td>Missing/Undefined</td>\n",
       "      <td>0.01</td>\n",
       "      <td>40.481637</td>\n",
       "      <td>-122.389375</td>\n",
       "      <td>CA</td>\n",
       "      <td>2457291.5</td>\n",
       "    </tr>\n",
       "    <tr>\n",
       "      <td>1880461</td>\n",
       "      <td>2015</td>\n",
       "      <td>ST/C&amp;L</td>\n",
       "      <td>Miscellaneous</td>\n",
       "      <td>0.20</td>\n",
       "      <td>37.617619</td>\n",
       "      <td>-120.938570</td>\n",
       "      <td>CA</td>\n",
       "      <td>2457300.5</td>\n",
       "    </tr>\n",
       "    <tr>\n",
       "      <td>1880462</td>\n",
       "      <td>2015</td>\n",
       "      <td>ST/C&amp;L</td>\n",
       "      <td>Missing/Undefined</td>\n",
       "      <td>0.10</td>\n",
       "      <td>37.617619</td>\n",
       "      <td>-120.938570</td>\n",
       "      <td>CA</td>\n",
       "      <td>2457144.5</td>\n",
       "    </tr>\n",
       "    <tr>\n",
       "      <td>1880463</td>\n",
       "      <td>2015</td>\n",
       "      <td>ST/C&amp;L</td>\n",
       "      <td>Missing/Undefined</td>\n",
       "      <td>2.00</td>\n",
       "      <td>37.672235</td>\n",
       "      <td>-120.898356</td>\n",
       "      <td>CA</td>\n",
       "      <td>2457309.5</td>\n",
       "    </tr>\n",
       "    <tr>\n",
       "      <td>1880464</td>\n",
       "      <td>2015</td>\n",
       "      <td>ST/C&amp;L</td>\n",
       "      <td>Miscellaneous</td>\n",
       "      <td>0.10</td>\n",
       "      <td>34.263217</td>\n",
       "      <td>-116.830950</td>\n",
       "      <td>CA</td>\n",
       "      <td>2457095.5</td>\n",
       "    </tr>\n",
       "  </tbody>\n",
       "</table>\n",
       "<p>1880465 rows × 8 columns</p>\n",
       "</div>"
      ],
      "text/plain": [
       "         FIRE_YEAR NWCG_REPORTING_AGENCY   STAT_CAUSE_DESCR  FIRE_SIZE  \\\n",
       "0             2005                    FS      Miscellaneous       0.10   \n",
       "1             2004                    FS          Lightning       0.25   \n",
       "2             2004                    FS     Debris Burning       0.10   \n",
       "3             2004                    FS          Lightning       0.10   \n",
       "4             2004                    FS          Lightning       0.10   \n",
       "...            ...                   ...                ...        ...   \n",
       "1880460       2015                ST/C&L  Missing/Undefined       0.01   \n",
       "1880461       2015                ST/C&L      Miscellaneous       0.20   \n",
       "1880462       2015                ST/C&L  Missing/Undefined       0.10   \n",
       "1880463       2015                ST/C&L  Missing/Undefined       2.00   \n",
       "1880464       2015                ST/C&L      Miscellaneous       0.10   \n",
       "\n",
       "          LATITUDE   LONGITUDE STATE  DISCOVERY_DATE  \n",
       "0        40.036944 -121.005833    CA       2453403.5  \n",
       "1        38.933056 -120.404444    CA       2453137.5  \n",
       "2        38.984167 -120.735556    CA       2453156.5  \n",
       "3        38.559167 -119.913333    CA       2453184.5  \n",
       "4        38.559167 -119.933056    CA       2453184.5  \n",
       "...            ...         ...   ...             ...  \n",
       "1880460  40.481637 -122.389375    CA       2457291.5  \n",
       "1880461  37.617619 -120.938570    CA       2457300.5  \n",
       "1880462  37.617619 -120.938570    CA       2457144.5  \n",
       "1880463  37.672235 -120.898356    CA       2457309.5  \n",
       "1880464  34.263217 -116.830950    CA       2457095.5  \n",
       "\n",
       "[1880465 rows x 8 columns]"
      ]
     },
     "execution_count": 9,
     "metadata": {},
     "output_type": "execute_result"
    }
   ],
   "source": [
    "# copy original data in sample data for further prosessing \n",
    "df_sample = df_original.copy()\n",
    "df_sample"
   ]
  },
  {
   "cell_type": "code",
   "execution_count": 10,
   "metadata": {},
   "outputs": [],
   "source": [
    "# taking sample 10% from original data ( 1.8 million data ) and STAT_CAUSE_DESCR feature is target feature.\n",
    "X = df_sample.drop('STAT_CAUSE_DESCR',axis = 1)\n",
    "y = df_sample[['STAT_CAUSE_DESCR']]\n",
    "from sklearn.model_selection import train_test_split\n",
    "X_train ,X_test,y_train,y_test = train_test_split(X,y,test_size = 0.1, stratify = y,random_state = 42)"
   ]
  },
  {
   "cell_type": "code",
   "execution_count": 14,
   "metadata": {},
   "outputs": [
    {
     "name": "stdout",
     "output_type": "stream",
     "text": [
      "(188047, 7) (188047, 1)\n"
     ]
    }
   ],
   "source": [
    "# checking shape of sample data \n",
    "# it should be 10% of original data \n",
    "print(X_test.shape,y_test.shape)"
   ]
  },
  {
   "cell_type": "code",
   "execution_count": 12,
   "metadata": {},
   "outputs": [
    {
     "data": {
      "text/html": [
       "<div>\n",
       "<style scoped>\n",
       "    .dataframe tbody tr th:only-of-type {\n",
       "        vertical-align: middle;\n",
       "    }\n",
       "\n",
       "    .dataframe tbody tr th {\n",
       "        vertical-align: top;\n",
       "    }\n",
       "\n",
       "    .dataframe thead th {\n",
       "        text-align: right;\n",
       "    }\n",
       "</style>\n",
       "<table border=\"1\" class=\"dataframe\">\n",
       "  <thead>\n",
       "    <tr style=\"text-align: right;\">\n",
       "      <th></th>\n",
       "      <th>FIRE_YEAR</th>\n",
       "      <th>NWCG_REPORTING_AGENCY</th>\n",
       "      <th>FIRE_SIZE</th>\n",
       "      <th>LATITUDE</th>\n",
       "      <th>LONGITUDE</th>\n",
       "      <th>STATE</th>\n",
       "      <th>DISCOVERY_DATE</th>\n",
       "      <th>STAT_CAUSE_DESCR</th>\n",
       "    </tr>\n",
       "  </thead>\n",
       "  <tbody>\n",
       "    <tr>\n",
       "      <td>1679293</td>\n",
       "      <td>2013</td>\n",
       "      <td>ST/C&amp;L</td>\n",
       "      <td>6.00</td>\n",
       "      <td>36.087380</td>\n",
       "      <td>-91.770630</td>\n",
       "      <td>AR</td>\n",
       "      <td>2456477.5</td>\n",
       "      <td>Missing/Undefined</td>\n",
       "    </tr>\n",
       "    <tr>\n",
       "      <td>185900</td>\n",
       "      <td>1994</td>\n",
       "      <td>BIA</td>\n",
       "      <td>0.20</td>\n",
       "      <td>45.976300</td>\n",
       "      <td>-89.889600</td>\n",
       "      <td>WI</td>\n",
       "      <td>2449463.5</td>\n",
       "      <td>Children</td>\n",
       "    </tr>\n",
       "    <tr>\n",
       "      <td>851219</td>\n",
       "      <td>2000</td>\n",
       "      <td>ST/C&amp;L</td>\n",
       "      <td>1.50</td>\n",
       "      <td>31.413600</td>\n",
       "      <td>-87.267200</td>\n",
       "      <td>AL</td>\n",
       "      <td>2451890.5</td>\n",
       "      <td>Debris Burning</td>\n",
       "    </tr>\n",
       "    <tr>\n",
       "      <td>1199487</td>\n",
       "      <td>2010</td>\n",
       "      <td>ST/C&amp;L</td>\n",
       "      <td>50.00</td>\n",
       "      <td>38.072160</td>\n",
       "      <td>-82.116499</td>\n",
       "      <td>WV</td>\n",
       "      <td>2455512.5</td>\n",
       "      <td>Arson</td>\n",
       "    </tr>\n",
       "    <tr>\n",
       "      <td>87485</td>\n",
       "      <td>1996</td>\n",
       "      <td>FS</td>\n",
       "      <td>0.10</td>\n",
       "      <td>45.508333</td>\n",
       "      <td>-116.078333</td>\n",
       "      <td>ID</td>\n",
       "      <td>2450309.5</td>\n",
       "      <td>Lightning</td>\n",
       "    </tr>\n",
       "    <tr>\n",
       "      <td>...</td>\n",
       "      <td>...</td>\n",
       "      <td>...</td>\n",
       "      <td>...</td>\n",
       "      <td>...</td>\n",
       "      <td>...</td>\n",
       "      <td>...</td>\n",
       "      <td>...</td>\n",
       "      <td>...</td>\n",
       "    </tr>\n",
       "    <tr>\n",
       "      <td>813822</td>\n",
       "      <td>2005</td>\n",
       "      <td>ST/C&amp;L</td>\n",
       "      <td>1.00</td>\n",
       "      <td>31.356900</td>\n",
       "      <td>-88.920800</td>\n",
       "      <td>MS</td>\n",
       "      <td>2453697.5</td>\n",
       "      <td>Arson</td>\n",
       "    </tr>\n",
       "    <tr>\n",
       "      <td>375899</td>\n",
       "      <td>2004</td>\n",
       "      <td>ST/C&amp;L</td>\n",
       "      <td>0.10</td>\n",
       "      <td>41.940000</td>\n",
       "      <td>-71.080000</td>\n",
       "      <td>MA</td>\n",
       "      <td>2453185.5</td>\n",
       "      <td>Miscellaneous</td>\n",
       "    </tr>\n",
       "    <tr>\n",
       "      <td>685184</td>\n",
       "      <td>1995</td>\n",
       "      <td>ST/C&amp;L</td>\n",
       "      <td>0.50</td>\n",
       "      <td>45.733333</td>\n",
       "      <td>-68.300000</td>\n",
       "      <td>ME</td>\n",
       "      <td>2449952.5</td>\n",
       "      <td>Missing/Undefined</td>\n",
       "    </tr>\n",
       "    <tr>\n",
       "      <td>1394539</td>\n",
       "      <td>1993</td>\n",
       "      <td>ST/C&amp;L</td>\n",
       "      <td>1.08</td>\n",
       "      <td>31.515700</td>\n",
       "      <td>-83.754900</td>\n",
       "      <td>GA</td>\n",
       "      <td>2449224.5</td>\n",
       "      <td>Debris Burning</td>\n",
       "    </tr>\n",
       "    <tr>\n",
       "      <td>1349128</td>\n",
       "      <td>2002</td>\n",
       "      <td>ST/C&amp;L</td>\n",
       "      <td>0.10</td>\n",
       "      <td>41.952662</td>\n",
       "      <td>-74.131382</td>\n",
       "      <td>NY</td>\n",
       "      <td>2452432.5</td>\n",
       "      <td>Miscellaneous</td>\n",
       "    </tr>\n",
       "  </tbody>\n",
       "</table>\n",
       "<p>188047 rows × 8 columns</p>\n",
       "</div>"
      ],
      "text/plain": [
       "         FIRE_YEAR NWCG_REPORTING_AGENCY  FIRE_SIZE   LATITUDE   LONGITUDE  \\\n",
       "1679293       2013                ST/C&L       6.00  36.087380  -91.770630   \n",
       "185900        1994                   BIA       0.20  45.976300  -89.889600   \n",
       "851219        2000                ST/C&L       1.50  31.413600  -87.267200   \n",
       "1199487       2010                ST/C&L      50.00  38.072160  -82.116499   \n",
       "87485         1996                    FS       0.10  45.508333 -116.078333   \n",
       "...            ...                   ...        ...        ...         ...   \n",
       "813822        2005                ST/C&L       1.00  31.356900  -88.920800   \n",
       "375899        2004                ST/C&L       0.10  41.940000  -71.080000   \n",
       "685184        1995                ST/C&L       0.50  45.733333  -68.300000   \n",
       "1394539       1993                ST/C&L       1.08  31.515700  -83.754900   \n",
       "1349128       2002                ST/C&L       0.10  41.952662  -74.131382   \n",
       "\n",
       "        STATE  DISCOVERY_DATE   STAT_CAUSE_DESCR  \n",
       "1679293    AR       2456477.5  Missing/Undefined  \n",
       "185900     WI       2449463.5           Children  \n",
       "851219     AL       2451890.5     Debris Burning  \n",
       "1199487    WV       2455512.5              Arson  \n",
       "87485      ID       2450309.5          Lightning  \n",
       "...       ...             ...                ...  \n",
       "813822     MS       2453697.5              Arson  \n",
       "375899     MA       2453185.5      Miscellaneous  \n",
       "685184     ME       2449952.5  Missing/Undefined  \n",
       "1394539    GA       2449224.5     Debris Burning  \n",
       "1349128    NY       2452432.5      Miscellaneous  \n",
       "\n",
       "[188047 rows x 8 columns]"
      ]
     },
     "execution_count": 12,
     "metadata": {},
     "output_type": "execute_result"
    }
   ],
   "source": [
    "# join target feature and features for another data Exploration and analysis\n",
    "df_final = X_test.join(y_test)\n",
    "df = df_final\n",
    "df"
   ]
  },
  {
   "cell_type": "code",
   "execution_count": 16,
   "metadata": {},
   "outputs": [
    {
     "name": "stdout",
     "output_type": "stream",
     "text": [
      "FIRE_YEAR                       2010\n",
      "NWCG_REPORTING_AGENCY         ST/C&L\n",
      "STAT_CAUSE_DESCR               Arson\n",
      "FIRE_SIZE                         50\n",
      "LATITUDE                     38.0722\n",
      "LONGITUDE                   -82.1165\n",
      "STATE                             WV\n",
      "DISCOVERY_DATE           2.45551e+06\n",
      "Name: 1199487, dtype: object\n",
      "------------------------------------\n",
      "FIRE_YEAR                       1994\n",
      "NWCG_REPORTING_AGENCY            BIA\n",
      "STAT_CAUSE_DESCR            Children\n",
      "FIRE_SIZE                        0.2\n",
      "LATITUDE                     45.9763\n",
      "LONGITUDE                   -89.8896\n",
      "STATE                             WI\n",
      "DISCOVERY_DATE           2.44946e+06\n",
      "Name: 185900, dtype: object\n"
     ]
    }
   ],
   "source": [
    "# checking sample data manually by index matching \n",
    "print(df_original.loc[1199487])\n",
    "print(\"------------------------------------\")\n",
    "print(df_original.loc[185900])"
   ]
  },
  {
   "cell_type": "markdown",
   "metadata": {},
   "source": [
    "## Data Exploration and Analysis"
   ]
  },
  {
   "cell_type": "code",
   "execution_count": 17,
   "metadata": {},
   "outputs": [
    {
     "data": {
      "image/png": "[encoded data removed]",
      "text/plain": [
       "<Figure size 432x288 with 1 Axes>"
      ]
     },
     "metadata": {
      "needs_background": "light"
     },
     "output_type": "display_data"
    }
   ],
   "source": [
    "# checking classes(causes of wildfire) on target feature\n",
    "df.STAT_CAUSE_DESCR.value_counts().plot(kind = 'barh' , title = \" Number of causes for Wildfire\")\n",
    "plt.show()"
   ]
  },
  {
   "cell_type": "code",
   "execution_count": 189,
   "metadata": {},
   "outputs": [
    {
     "data": {
      "text/plain": [
       "<matplotlib.axes._subplots.AxesSubplot at 0x1a23390f90>"
      ]
     },
     "execution_count": 189,
     "metadata": {},
     "output_type": "execute_result"
    },
    {
     "data": {
      "image/png": "[encoded data removed]",
      "text/plain": [
       "<Figure size 648x360 with 1 Axes>"
      ]
     },
     "metadata": {
      "needs_background": "light"
     },
     "output_type": "display_data"
    }
   ],
   "source": [
    "# top ten state on wildfire incident \n",
    "df.STATE.value_counts()[:10].plot(kind='barh',figsize = (9,5),title = 'Fire status top 10 states')"
   ]
  },
  {
   "cell_type": "code",
   "execution_count": 18,
   "metadata": {},
   "outputs": [
    {
     "data": {
      "text/plain": [
       "<matplotlib.axes._subplots.AxesSubplot at 0x1a2531e150>"
      ]
     },
     "execution_count": 18,
     "metadata": {},
     "output_type": "execute_result"
    },
    {
     "data": {
      "image/png": "[encoded data removed]",
      "text/plain": [
       "<Figure size 432x288 with 1 Axes>"
      ]
     },
     "metadata": {
      "needs_background": "light"
     },
     "output_type": "display_data"
    }
   ],
   "source": [
    "# Causes of wildfire of top state (CA)\n",
    "df[df.STATE == 'CA'].STAT_CAUSE_DESCR.value_counts().plot(kind='barh',title ='Reason of Fire on CA')"
   ]
  },
  {
   "cell_type": "code",
   "execution_count": 19,
   "metadata": {},
   "outputs": [
    {
     "data": {
      "text/plain": [
       "<matplotlib.axes._subplots.AxesSubplot at 0x1acd434750>"
      ]
     },
     "execution_count": 19,
     "metadata": {},
     "output_type": "execute_result"
    },
    {
     "data": {
      "image/png": "[encoded data removed]",
      "text/plain": [
       "<Figure size 432x288 with 1 Axes>"
      ]
     },
     "metadata": {
      "needs_background": "light"
     },
     "output_type": "display_data"
    }
   ],
   "source": [
    "# Causes of wildfire of second top state (GA)\n",
    "df[df.STATE == 'GA'].STAT_CAUSE_DESCR.value_counts().plot(kind='barh',title ='Reason of Fire on GA')"
   ]
  },
  {
   "cell_type": "code",
   "execution_count": 20,
   "metadata": {},
   "outputs": [
    {
     "data": {
      "text/plain": [
       "<matplotlib.axes._subplots.AxesSubplot at 0x1ac8478b10>"
      ]
     },
     "execution_count": 20,
     "metadata": {},
     "output_type": "execute_result"
    },
    {
     "data": {
      "image/png": "[encoded data removed]",
      "text/plain": [
       "<Figure size 432x288 with 1 Axes>"
      ]
     },
     "metadata": {
      "needs_background": "light"
     },
     "output_type": "display_data"
    }
   ],
   "source": [
    "# Causes of wildfire of third top state (TX)\n",
    "df[df.STATE == 'TX'].STAT_CAUSE_DESCR.value_counts().plot(kind='barh',title ='reason of Fire on TX')"
   ]
  },
  {
   "cell_type": "code",
   "execution_count": 193,
   "metadata": {},
   "outputs": [
    {
     "data": {
      "text/plain": [
       "\"\\ndef set_label(reason):\\n    #cause = 0\\n    natural = ['Lightning']\\n    accidental = ['Debris Burning', 'Campfire' , 'Equipment Use', 'Children', 'Railroad', 'Smoking',\\n                  'Powerline', 'Structure', 'Fireworks']\\n    malicious = ['Arson']\\n    other = ['Miscellaneous','Missing/Undefined']\\n    \\n    if reason in natural:\\n        cause = 'natural'\\n    elif reason in accidental:\\n        cause = 'accident'\\n    elif reason in malicious:\\n        cause = 'crime'\\n    elif reason in other:\\n        cause = 'other'\\n    return cause  \\n\\n\""
      ]
     },
     "execution_count": 193,
     "metadata": {},
     "output_type": "execute_result"
    }
   ],
   "source": [
    "# Reducing class label in df.STAT_CAUSE_DESCR\n",
    "\"\"\"\n",
    "def set_label(reason):\n",
    "    #cause = 0\n",
    "    natural = ['Lightning']\n",
    "    accidental = ['Debris Burning', 'Campfire' , 'Equipment Use', 'Children', 'Railroad', 'Smoking',\n",
    "                  'Powerline', 'Structure', 'Fireworks']\n",
    "    malicious = ['Arson']\n",
    "    other = ['Miscellaneous','Missing/Undefined']\n",
    "    \n",
    "    if reason in natural:\n",
    "        cause = 'natural'\n",
    "    elif reason in accidental:\n",
    "        cause = 'accident'\n",
    "    elif reason in malicious:\n",
    "        cause = 'crime'\n",
    "    elif reason in other:\n",
    "        cause = 'other'\n",
    "    return cause  \n",
    "\n",
    "\"\"\""
   ]
  },
  {
   "cell_type": "code",
   "execution_count": 194,
   "metadata": {},
   "outputs": [
    {
     "data": {
      "text/plain": [
       "\"\\ndef set_label_one_arson(reason):\\n        cause =0\\n        if reason == 'Arson':\\n            cause =1\\n        else:\\n            cause =0\\n        return cause    \\n\\n\""
      ]
     },
     "execution_count": 194,
     "metadata": {},
     "output_type": "execute_result"
    }
   ],
   "source": [
    "\"\"\"\n",
    "def set_label_one_arson(reason):\n",
    "        cause =0\n",
    "        if reason == 'Arson':\n",
    "            cause =1\n",
    "        else:\n",
    "            cause =0\n",
    "        return cause    \n",
    "\n",
    "\"\"\""
   ]
  },
  {
   "cell_type": "code",
   "execution_count": 195,
   "metadata": {},
   "outputs": [
    {
     "data": {
      "text/plain": [
       "\"\\ndef set_label_one_light(reason):\\n        cause =0\\n        if reason == 'Lightning':\\n            cause =1\\n        else:\\n            cause = 0\\n        return cause \\n\""
      ]
     },
     "execution_count": 195,
     "metadata": {},
     "output_type": "execute_result"
    }
   ],
   "source": [
    "\"\"\"\n",
    "def set_label_one_light(reason):\n",
    "        cause =0\n",
    "        if reason == 'Lightning':\n",
    "            cause =1\n",
    "        else:\n",
    "            cause = 0\n",
    "        return cause \n",
    "\"\"\"        "
   ]
  },
  {
   "cell_type": "code",
   "execution_count": 22,
   "metadata": {},
   "outputs": [
    {
     "data": {
      "text/plain": [
       "<matplotlib.axes._subplots.AxesSubplot at 0x1a25974dd0>"
      ]
     },
     "execution_count": 22,
     "metadata": {},
     "output_type": "execute_result"
    },
    {
     "data": {
      "image/png": "[encoded data removed]",
      "text/plain": [
       "<Figure size 864x576 with 1 Axes>"
      ]
     },
     "metadata": {
      "needs_background": "light"
     },
     "output_type": "display_data"
    }
   ],
   "source": [
    "# plot place of wildfire by given longitude and latitude data \n",
    "fig = plt.figure(figsize = (12,8))\n",
    "sns.scatterplot(x='LONGITUDE',y='LATITUDE',data = df)"
   ]
  },
  {
   "cell_type": "code",
   "execution_count": 30,
   "metadata": {},
   "outputs": [
    {
     "data": {
      "text/plain": [
       "<matplotlib.axes._subplots.AxesSubplot at 0x1a534d3150>"
      ]
     },
     "execution_count": 30,
     "metadata": {},
     "output_type": "execute_result"
    },
    {
     "data": {
      "image/png": "[encoded data removed]",
      "text/plain": [
       "<Figure size 432x288 with 1 Axes>"
      ]
     },
     "metadata": {
      "needs_background": "light"
     },
     "output_type": "display_data"
    }
   ],
   "source": [
    "# plot name of reporting agency of wildfire \n",
    "df.NWCG_REPORTING_AGENCY.value_counts().plot(kind='barh')"
   ]
  },
  {
   "cell_type": "code",
   "execution_count": 32,
   "metadata": {},
   "outputs": [
    {
     "data": {
      "text/plain": [
       "<matplotlib.axes._subplots.AxesSubplot at 0x1a53706b10>"
      ]
     },
     "execution_count": 32,
     "metadata": {},
     "output_type": "execute_result"
    },
    {
     "data": {
      "image/png": "[encoded data removed]",
      "text/plain": [
       "<Figure size 720x432 with 2 Axes>"
      ]
     },
     "metadata": {
      "needs_background": "light"
     },
     "output_type": "display_data"
    }
   ],
   "source": [
    "# correlation between features by heatmap plot\n",
    "plt.figure(figsize = (10,6))\n",
    "sns.heatmap(df.corr(),annot =True)"
   ]
  },
  {
   "cell_type": "code",
   "execution_count": 23,
   "metadata": {},
   "outputs": [
    {
     "data": {
      "text/html": [
       "<div>\n",
       "<style scoped>\n",
       "    .dataframe tbody tr th:only-of-type {\n",
       "        vertical-align: middle;\n",
       "    }\n",
       "\n",
       "    .dataframe tbody tr th {\n",
       "        vertical-align: top;\n",
       "    }\n",
       "\n",
       "    .dataframe thead th {\n",
       "        text-align: right;\n",
       "    }\n",
       "</style>\n",
       "<table border=\"1\" class=\"dataframe\">\n",
       "  <thead>\n",
       "    <tr style=\"text-align: right;\">\n",
       "      <th></th>\n",
       "      <th>FIRE_YEAR</th>\n",
       "      <th>NWCG_REPORTING_AGENCY</th>\n",
       "      <th>FIRE_SIZE</th>\n",
       "      <th>LATITUDE</th>\n",
       "      <th>LONGITUDE</th>\n",
       "      <th>STATE</th>\n",
       "      <th>DISCOVERY_DATE</th>\n",
       "      <th>STAT_CAUSE_DESCR</th>\n",
       "      <th>DATE</th>\n",
       "      <th>MONTH</th>\n",
       "      <th>WEEKDAY</th>\n",
       "    </tr>\n",
       "  </thead>\n",
       "  <tbody>\n",
       "    <tr>\n",
       "      <td>1679293</td>\n",
       "      <td>2013</td>\n",
       "      <td>ST/C&amp;L</td>\n",
       "      <td>6.00</td>\n",
       "      <td>36.087380</td>\n",
       "      <td>-91.770630</td>\n",
       "      <td>AR</td>\n",
       "      <td>2456477.5</td>\n",
       "      <td>Missing/Undefined</td>\n",
       "      <td>2013-07-04</td>\n",
       "      <td>7</td>\n",
       "      <td>Thursday</td>\n",
       "    </tr>\n",
       "    <tr>\n",
       "      <td>185900</td>\n",
       "      <td>1994</td>\n",
       "      <td>BIA</td>\n",
       "      <td>0.20</td>\n",
       "      <td>45.976300</td>\n",
       "      <td>-89.889600</td>\n",
       "      <td>WI</td>\n",
       "      <td>2449463.5</td>\n",
       "      <td>Children</td>\n",
       "      <td>1994-04-21</td>\n",
       "      <td>4</td>\n",
       "      <td>Thursday</td>\n",
       "    </tr>\n",
       "    <tr>\n",
       "      <td>851219</td>\n",
       "      <td>2000</td>\n",
       "      <td>ST/C&amp;L</td>\n",
       "      <td>1.50</td>\n",
       "      <td>31.413600</td>\n",
       "      <td>-87.267200</td>\n",
       "      <td>AL</td>\n",
       "      <td>2451890.5</td>\n",
       "      <td>Debris Burning</td>\n",
       "      <td>2000-12-12</td>\n",
       "      <td>12</td>\n",
       "      <td>Tuesday</td>\n",
       "    </tr>\n",
       "    <tr>\n",
       "      <td>1199487</td>\n",
       "      <td>2010</td>\n",
       "      <td>ST/C&amp;L</td>\n",
       "      <td>50.00</td>\n",
       "      <td>38.072160</td>\n",
       "      <td>-82.116499</td>\n",
       "      <td>WV</td>\n",
       "      <td>2455512.5</td>\n",
       "      <td>Arson</td>\n",
       "      <td>2010-11-12</td>\n",
       "      <td>11</td>\n",
       "      <td>Friday</td>\n",
       "    </tr>\n",
       "    <tr>\n",
       "      <td>87485</td>\n",
       "      <td>1996</td>\n",
       "      <td>FS</td>\n",
       "      <td>0.10</td>\n",
       "      <td>45.508333</td>\n",
       "      <td>-116.078333</td>\n",
       "      <td>ID</td>\n",
       "      <td>2450309.5</td>\n",
       "      <td>Lightning</td>\n",
       "      <td>1996-08-14</td>\n",
       "      <td>8</td>\n",
       "      <td>Wednesday</td>\n",
       "    </tr>\n",
       "    <tr>\n",
       "      <td>...</td>\n",
       "      <td>...</td>\n",
       "      <td>...</td>\n",
       "      <td>...</td>\n",
       "      <td>...</td>\n",
       "      <td>...</td>\n",
       "      <td>...</td>\n",
       "      <td>...</td>\n",
       "      <td>...</td>\n",
       "      <td>...</td>\n",
       "      <td>...</td>\n",
       "      <td>...</td>\n",
       "    </tr>\n",
       "    <tr>\n",
       "      <td>813822</td>\n",
       "      <td>2005</td>\n",
       "      <td>ST/C&amp;L</td>\n",
       "      <td>1.00</td>\n",
       "      <td>31.356900</td>\n",
       "      <td>-88.920800</td>\n",
       "      <td>MS</td>\n",
       "      <td>2453697.5</td>\n",
       "      <td>Arson</td>\n",
       "      <td>2005-11-23</td>\n",
       "      <td>11</td>\n",
       "      <td>Wednesday</td>\n",
       "    </tr>\n",
       "    <tr>\n",
       "      <td>375899</td>\n",
       "      <td>2004</td>\n",
       "      <td>ST/C&amp;L</td>\n",
       "      <td>0.10</td>\n",
       "      <td>41.940000</td>\n",
       "      <td>-71.080000</td>\n",
       "      <td>MA</td>\n",
       "      <td>2453185.5</td>\n",
       "      <td>Miscellaneous</td>\n",
       "      <td>2004-06-29</td>\n",
       "      <td>6</td>\n",
       "      <td>Tuesday</td>\n",
       "    </tr>\n",
       "    <tr>\n",
       "      <td>685184</td>\n",
       "      <td>1995</td>\n",
       "      <td>ST/C&amp;L</td>\n",
       "      <td>0.50</td>\n",
       "      <td>45.733333</td>\n",
       "      <td>-68.300000</td>\n",
       "      <td>ME</td>\n",
       "      <td>2449952.5</td>\n",
       "      <td>Missing/Undefined</td>\n",
       "      <td>1995-08-23</td>\n",
       "      <td>8</td>\n",
       "      <td>Wednesday</td>\n",
       "    </tr>\n",
       "    <tr>\n",
       "      <td>1394539</td>\n",
       "      <td>1993</td>\n",
       "      <td>ST/C&amp;L</td>\n",
       "      <td>1.08</td>\n",
       "      <td>31.515700</td>\n",
       "      <td>-83.754900</td>\n",
       "      <td>GA</td>\n",
       "      <td>2449224.5</td>\n",
       "      <td>Debris Burning</td>\n",
       "      <td>1993-08-25</td>\n",
       "      <td>8</td>\n",
       "      <td>Wednesday</td>\n",
       "    </tr>\n",
       "    <tr>\n",
       "      <td>1349128</td>\n",
       "      <td>2002</td>\n",
       "      <td>ST/C&amp;L</td>\n",
       "      <td>0.10</td>\n",
       "      <td>41.952662</td>\n",
       "      <td>-74.131382</td>\n",
       "      <td>NY</td>\n",
       "      <td>2452432.5</td>\n",
       "      <td>Miscellaneous</td>\n",
       "      <td>2002-06-07</td>\n",
       "      <td>6</td>\n",
       "      <td>Friday</td>\n",
       "    </tr>\n",
       "  </tbody>\n",
       "</table>\n",
       "<p>188047 rows × 11 columns</p>\n",
       "</div>"
      ],
      "text/plain": [
       "         FIRE_YEAR NWCG_REPORTING_AGENCY  FIRE_SIZE   LATITUDE   LONGITUDE  \\\n",
       "1679293       2013                ST/C&L       6.00  36.087380  -91.770630   \n",
       "185900        1994                   BIA       0.20  45.976300  -89.889600   \n",
       "851219        2000                ST/C&L       1.50  31.413600  -87.267200   \n",
       "1199487       2010                ST/C&L      50.00  38.072160  -82.116499   \n",
       "87485         1996                    FS       0.10  45.508333 -116.078333   \n",
       "...            ...                   ...        ...        ...         ...   \n",
       "813822        2005                ST/C&L       1.00  31.356900  -88.920800   \n",
       "375899        2004                ST/C&L       0.10  41.940000  -71.080000   \n",
       "685184        1995                ST/C&L       0.50  45.733333  -68.300000   \n",
       "1394539       1993                ST/C&L       1.08  31.515700  -83.754900   \n",
       "1349128       2002                ST/C&L       0.10  41.952662  -74.131382   \n",
       "\n",
       "        STATE  DISCOVERY_DATE   STAT_CAUSE_DESCR       DATE  MONTH    WEEKDAY  \n",
       "1679293    AR       2456477.5  Missing/Undefined 2013-07-04      7   Thursday  \n",
       "185900     WI       2449463.5           Children 1994-04-21      4   Thursday  \n",
       "851219     AL       2451890.5     Debris Burning 2000-12-12     12    Tuesday  \n",
       "1199487    WV       2455512.5              Arson 2010-11-12     11     Friday  \n",
       "87485      ID       2450309.5          Lightning 1996-08-14      8  Wednesday  \n",
       "...       ...             ...                ...        ...    ...        ...  \n",
       "813822     MS       2453697.5              Arson 2005-11-23     11  Wednesday  \n",
       "375899     MA       2453185.5      Miscellaneous 2004-06-29      6    Tuesday  \n",
       "685184     ME       2449952.5  Missing/Undefined 1995-08-23      8  Wednesday  \n",
       "1394539    GA       2449224.5     Debris Burning 1993-08-25      8  Wednesday  \n",
       "1349128    NY       2452432.5      Miscellaneous 2002-06-07      6     Friday  \n",
       "\n",
       "[188047 rows x 11 columns]"
      ]
     },
     "execution_count": 23,
     "metadata": {},
     "output_type": "execute_result"
    }
   ],
   "source": [
    "# find out year , month , weekday from Discovery_date which is given\n",
    "df['DATE'] = pd.to_datetime(df['DISCOVERY_DATE'] - pd.Timestamp(0).to_julian_date(),unit='D')\n",
    "df['MONTH'] = pd.DatetimeIndex(df['DATE']).month\n",
    "#df['WEEKDAY'] = df['DATE'].dt.weekday_name\n",
    "df['WEEKDAY'] = pd.DatetimeIndex(df['DATE']).weekday_name\n",
    "df"
   ]
  },
  {
   "cell_type": "code",
   "execution_count": 24,
   "metadata": {},
   "outputs": [
    {
     "data": {
      "text/plain": [
       "<matplotlib.axes._subplots.AxesSubplot at 0x1aafd1fdd0>"
      ]
     },
     "execution_count": 24,
     "metadata": {},
     "output_type": "execute_result"
    },
    {
     "data": {
      "image/png": "[encoded data removed]",
      "text/plain": [
       "<Figure size 432x288 with 1 Axes>"
      ]
     },
     "metadata": {
      "needs_background": "light"
     },
     "output_type": "display_data"
    }
   ],
   "source": [
    "# Analysis wildfire happended by weekday\n",
    "df.WEEKDAY.value_counts().plot(kind='barh')"
   ]
  },
  {
   "cell_type": "code",
   "execution_count": 25,
   "metadata": {},
   "outputs": [
    {
     "data": {
      "text/plain": [
       "<matplotlib.axes._subplots.AxesSubplot at 0x1ab008dd90>"
      ]
     },
     "execution_count": 25,
     "metadata": {},
     "output_type": "execute_result"
    },
    {
     "data": {
      "image/png": "[encoded data removed]",
      "text/plain": [
       "<Figure size 432x288 with 1 Axes>"
      ]
     },
     "metadata": {
      "needs_background": "light"
     },
     "output_type": "display_data"
    }
   ],
   "source": [
    "# Analysis most important cause natural ( Lightning) with weekday\n",
    "\n",
    "df[df['STAT_CAUSE_DESCR']=='Lightning'].WEEKDAY.value_counts().plot(kind='barh')"
   ]
  },
  {
   "cell_type": "code",
   "execution_count": 27,
   "metadata": {},
   "outputs": [
    {
     "data": {
      "text/plain": [
       "<matplotlib.axes._subplots.AxesSubplot at 0x1ab0099f10>"
      ]
     },
     "execution_count": 27,
     "metadata": {},
     "output_type": "execute_result"
    },
    {
     "data": {
      "image/png": "[encoded data removed]",
      "text/plain": [
       "<Figure size 432x288 with 1 Axes>"
      ]
     },
     "metadata": {
      "needs_background": "light"
     },
     "output_type": "display_data"
    }
   ],
   "source": [
    "# Analysis Crime  cause ( Arson ) with weekday\n",
    "\n",
    "df[df['STAT_CAUSE_DESCR']=='Arson'].WEEKDAY.value_counts().plot(kind='barh')"
   ]
  },
  {
   "cell_type": "code",
   "execution_count": 28,
   "metadata": {},
   "outputs": [
    {
     "data": {
      "text/plain": [
       "<matplotlib.axes._subplots.AxesSubplot at 0x1ab128f850>"
      ]
     },
     "execution_count": 28,
     "metadata": {},
     "output_type": "execute_result"
    },
    {
     "data": {
      "image/png": "[encoded data removed]",
      "text/plain": [
       "<Figure size 432x288 with 1 Axes>"
      ]
     },
     "metadata": {
      "needs_background": "light"
     },
     "output_type": "display_data"
    }
   ],
   "source": [
    "# Reduce classes on target featute into four features\n",
    "#  Crime (arson) , Natural(lightning) , Accident , Other\n",
    "\n",
    "df['LABEL'] = df['STAT_CAUSE_DESCR'].apply(reduceLabel.set_label)\n",
    "df.LABEL.value_counts().plot(kind ='barh')"
   ]
  },
  {
   "cell_type": "code",
   "execution_count": 29,
   "metadata": {},
   "outputs": [],
   "source": [
    "# one-hot encode with only one feature Lighting  \n",
    "#df['LIGHTNING'] = df['STAT_CAUSE_DESCR'].apply(lebelLightning.set_label_one_light)\n",
    "#df.LIGHTNING.value_counts().plot(kind ='bar')"
   ]
  },
  {
   "cell_type": "code",
   "execution_count": 32,
   "metadata": {},
   "outputs": [
    {
     "data": {
      "text/plain": [
       "<matplotlib.axes._subplots.AxesSubplot at 0x1ab54a5050>"
      ]
     },
     "execution_count": 32,
     "metadata": {},
     "output_type": "execute_result"
    },
    {
     "data": {
      "image/png": "[encoded data removed]",
      "text/plain": [
       "<Figure size 432x288 with 1 Axes>"
      ]
     },
     "metadata": {
      "needs_background": "light"
     },
     "output_type": "display_data"
    }
   ],
   "source": [
    " # one-hot encode with only one feature Crime (Arson)  \n",
    "df['ARSON'] = df['STAT_CAUSE_DESCR'].apply(labelArson.set_label_one_arson)\n",
    "df.ARSON.value_counts().plot(kind ='bar')"
   ]
  },
  {
   "cell_type": "code",
   "execution_count": 43,
   "metadata": {},
   "outputs": [
    {
     "name": "stdout",
     "output_type": "stream",
     "text": [
      "<class 'pandas.core.frame.DataFrame'>\n",
      "Int64Index: 188047 entries, 1679293 to 1349128\n",
      "Data columns (total 14 columns):\n",
      "FIRE_YEAR                188047 non-null int64\n",
      "NWCG_REPORTING_AGENCY    188047 non-null object\n",
      "FIRE_SIZE                188047 non-null float64\n",
      "LATITUDE                 188047 non-null float64\n",
      "LONGITUDE                188047 non-null float64\n",
      "STATE                    188047 non-null object\n",
      "DISCOVERY_DATE           188047 non-null float64\n",
      "STAT_CAUSE_DESCR         188047 non-null object\n",
      "DATE                     188047 non-null datetime64[ns]\n",
      "MONTH                    188047 non-null int64\n",
      "WEEKDAY                  188047 non-null object\n",
      "LIGHTNING                188047 non-null int64\n",
      "ARSON                    188047 non-null int64\n",
      "LABEL                    188047 non-null object\n",
      "dtypes: datetime64[ns](1), float64(4), int64(4), object(5)\n",
      "memory usage: 26.5+ MB\n"
     ]
    }
   ],
   "source": [
    "# Analysis overview of data like null, datatype of features etc\n",
    "df.info()"
   ]
  },
  {
   "cell_type": "code",
   "execution_count": 31,
   "metadata": {},
   "outputs": [
    {
     "data": {
      "text/html": [
       "<div>\n",
       "<style scoped>\n",
       "    .dataframe tbody tr th:only-of-type {\n",
       "        vertical-align: middle;\n",
       "    }\n",
       "\n",
       "    .dataframe tbody tr th {\n",
       "        vertical-align: top;\n",
       "    }\n",
       "\n",
       "    .dataframe thead th {\n",
       "        text-align: right;\n",
       "    }\n",
       "</style>\n",
       "<table border=\"1\" class=\"dataframe\">\n",
       "  <thead>\n",
       "    <tr style=\"text-align: right;\">\n",
       "      <th></th>\n",
       "      <th>FIRE_YEAR</th>\n",
       "      <th>NWCG_REPORTING_AGENCY</th>\n",
       "      <th>FIRE_SIZE</th>\n",
       "      <th>LATITUDE</th>\n",
       "      <th>LONGITUDE</th>\n",
       "      <th>STATE</th>\n",
       "      <th>DISCOVERY_DATE</th>\n",
       "      <th>STAT_CAUSE_DESCR</th>\n",
       "      <th>DATE</th>\n",
       "      <th>MONTH</th>\n",
       "      <th>WEEKDAY</th>\n",
       "      <th>LABEL</th>\n",
       "      <th>ARSON</th>\n",
       "    </tr>\n",
       "  </thead>\n",
       "  <tbody>\n",
       "    <tr>\n",
       "      <td>1679293</td>\n",
       "      <td>2013</td>\n",
       "      <td>ST/C&amp;L</td>\n",
       "      <td>6.0</td>\n",
       "      <td>36.087380</td>\n",
       "      <td>-91.770630</td>\n",
       "      <td>AR</td>\n",
       "      <td>2456477.5</td>\n",
       "      <td>Missing/Undefined</td>\n",
       "      <td>2013-07-04</td>\n",
       "      <td>7</td>\n",
       "      <td>Thursday</td>\n",
       "      <td>other</td>\n",
       "      <td>0</td>\n",
       "    </tr>\n",
       "    <tr>\n",
       "      <td>185900</td>\n",
       "      <td>1994</td>\n",
       "      <td>BIA</td>\n",
       "      <td>0.2</td>\n",
       "      <td>45.976300</td>\n",
       "      <td>-89.889600</td>\n",
       "      <td>WI</td>\n",
       "      <td>2449463.5</td>\n",
       "      <td>Children</td>\n",
       "      <td>1994-04-21</td>\n",
       "      <td>4</td>\n",
       "      <td>Thursday</td>\n",
       "      <td>accident</td>\n",
       "      <td>0</td>\n",
       "    </tr>\n",
       "    <tr>\n",
       "      <td>851219</td>\n",
       "      <td>2000</td>\n",
       "      <td>ST/C&amp;L</td>\n",
       "      <td>1.5</td>\n",
       "      <td>31.413600</td>\n",
       "      <td>-87.267200</td>\n",
       "      <td>AL</td>\n",
       "      <td>2451890.5</td>\n",
       "      <td>Debris Burning</td>\n",
       "      <td>2000-12-12</td>\n",
       "      <td>12</td>\n",
       "      <td>Tuesday</td>\n",
       "      <td>accident</td>\n",
       "      <td>0</td>\n",
       "    </tr>\n",
       "    <tr>\n",
       "      <td>1199487</td>\n",
       "      <td>2010</td>\n",
       "      <td>ST/C&amp;L</td>\n",
       "      <td>50.0</td>\n",
       "      <td>38.072160</td>\n",
       "      <td>-82.116499</td>\n",
       "      <td>WV</td>\n",
       "      <td>2455512.5</td>\n",
       "      <td>Arson</td>\n",
       "      <td>2010-11-12</td>\n",
       "      <td>11</td>\n",
       "      <td>Friday</td>\n",
       "      <td>crime</td>\n",
       "      <td>1</td>\n",
       "    </tr>\n",
       "    <tr>\n",
       "      <td>87485</td>\n",
       "      <td>1996</td>\n",
       "      <td>FS</td>\n",
       "      <td>0.1</td>\n",
       "      <td>45.508333</td>\n",
       "      <td>-116.078333</td>\n",
       "      <td>ID</td>\n",
       "      <td>2450309.5</td>\n",
       "      <td>Lightning</td>\n",
       "      <td>1996-08-14</td>\n",
       "      <td>8</td>\n",
       "      <td>Wednesday</td>\n",
       "      <td>natural</td>\n",
       "      <td>0</td>\n",
       "    </tr>\n",
       "  </tbody>\n",
       "</table>\n",
       "</div>"
      ],
      "text/plain": [
       "         FIRE_YEAR NWCG_REPORTING_AGENCY  FIRE_SIZE   LATITUDE   LONGITUDE  \\\n",
       "1679293       2013                ST/C&L        6.0  36.087380  -91.770630   \n",
       "185900        1994                   BIA        0.2  45.976300  -89.889600   \n",
       "851219        2000                ST/C&L        1.5  31.413600  -87.267200   \n",
       "1199487       2010                ST/C&L       50.0  38.072160  -82.116499   \n",
       "87485         1996                    FS        0.1  45.508333 -116.078333   \n",
       "\n",
       "        STATE  DISCOVERY_DATE   STAT_CAUSE_DESCR       DATE  MONTH    WEEKDAY  \\\n",
       "1679293    AR       2456477.5  Missing/Undefined 2013-07-04      7   Thursday   \n",
       "185900     WI       2449463.5           Children 1994-04-21      4   Thursday   \n",
       "851219     AL       2451890.5     Debris Burning 2000-12-12     12    Tuesday   \n",
       "1199487    WV       2455512.5              Arson 2010-11-12     11     Friday   \n",
       "87485      ID       2450309.5          Lightning 1996-08-14      8  Wednesday   \n",
       "\n",
       "            LABEL  ARSON  \n",
       "1679293     other      0  \n",
       "185900   accident      0  \n",
       "851219   accident      0  \n",
       "1199487     crime      1  \n",
       "87485     natural      0  "
      ]
     },
     "execution_count": 31,
     "metadata": {},
     "output_type": "execute_result"
    }
   ],
   "source": [
    "# \n",
    "df.head()"
   ]
  },
  {
   "cell_type": "code",
   "execution_count": 33,
   "metadata": {},
   "outputs": [],
   "source": [
    "# labeling all Categorical data \n",
    "from sklearn.preprocessing import LabelEncoder\n",
    "la = LabelEncoder()\n",
    "df['NWCG_REPORTING_AGENCY'] = la.fit_transform(df['NWCG_REPORTING_AGENCY'])\n",
    "df['STAT_CAUSE_DESCR'] = la.fit_transform(df['STAT_CAUSE_DESCR'])\n",
    "df['STATE'] = la.fit_transform(df['STATE'])\n",
    "df['WEEKDAY'] = la.fit_transform(df['WEEKDAY'])\n",
    "df['LABEL'] = la.fit_transform(df['LABEL'])"
   ]
  },
  {
   "cell_type": "code",
   "execution_count": 40,
   "metadata": {},
   "outputs": [
    {
     "data": {
      "text/html": [
       "<div>\n",
       "<style scoped>\n",
       "    .dataframe tbody tr th:only-of-type {\n",
       "        vertical-align: middle;\n",
       "    }\n",
       "\n",
       "    .dataframe tbody tr th {\n",
       "        vertical-align: top;\n",
       "    }\n",
       "\n",
       "    .dataframe thead th {\n",
       "        text-align: right;\n",
       "    }\n",
       "</style>\n",
       "<table border=\"1\" class=\"dataframe\">\n",
       "  <thead>\n",
       "    <tr style=\"text-align: right;\">\n",
       "      <th></th>\n",
       "      <th>FIRE_YEAR</th>\n",
       "      <th>NWCG_REPORTING_AGENCY</th>\n",
       "      <th>FIRE_SIZE</th>\n",
       "      <th>LATITUDE</th>\n",
       "      <th>LONGITUDE</th>\n",
       "      <th>STATE</th>\n",
       "      <th>DISCOVERY_DATE</th>\n",
       "      <th>STAT_CAUSE_DESCR</th>\n",
       "      <th>DATE</th>\n",
       "      <th>MONTH</th>\n",
       "      <th>WEEKDAY</th>\n",
       "      <th>LABEL</th>\n",
       "      <th>ARSON</th>\n",
       "    </tr>\n",
       "  </thead>\n",
       "  <tbody>\n",
       "    <tr>\n",
       "      <td>1679293</td>\n",
       "      <td>2013</td>\n",
       "      <td>8</td>\n",
       "      <td>6.0</td>\n",
       "      <td>36.087380</td>\n",
       "      <td>-91.770630</td>\n",
       "      <td>2</td>\n",
       "      <td>2456477.5</td>\n",
       "      <td>8</td>\n",
       "      <td>2013-07-04</td>\n",
       "      <td>7</td>\n",
       "      <td>4</td>\n",
       "      <td>3</td>\n",
       "      <td>0</td>\n",
       "    </tr>\n",
       "    <tr>\n",
       "      <td>185900</td>\n",
       "      <td>1994</td>\n",
       "      <td>0</td>\n",
       "      <td>0.2</td>\n",
       "      <td>45.976300</td>\n",
       "      <td>-89.889600</td>\n",
       "      <td>49</td>\n",
       "      <td>2449463.5</td>\n",
       "      <td>2</td>\n",
       "      <td>1994-04-21</td>\n",
       "      <td>4</td>\n",
       "      <td>4</td>\n",
       "      <td>0</td>\n",
       "      <td>0</td>\n",
       "    </tr>\n",
       "    <tr>\n",
       "      <td>851219</td>\n",
       "      <td>2000</td>\n",
       "      <td>8</td>\n",
       "      <td>1.5</td>\n",
       "      <td>31.413600</td>\n",
       "      <td>-87.267200</td>\n",
       "      <td>1</td>\n",
       "      <td>2451890.5</td>\n",
       "      <td>3</td>\n",
       "      <td>2000-12-12</td>\n",
       "      <td>12</td>\n",
       "      <td>5</td>\n",
       "      <td>0</td>\n",
       "      <td>0</td>\n",
       "    </tr>\n",
       "    <tr>\n",
       "      <td>1199487</td>\n",
       "      <td>2010</td>\n",
       "      <td>8</td>\n",
       "      <td>50.0</td>\n",
       "      <td>38.072160</td>\n",
       "      <td>-82.116499</td>\n",
       "      <td>50</td>\n",
       "      <td>2455512.5</td>\n",
       "      <td>0</td>\n",
       "      <td>2010-11-12</td>\n",
       "      <td>11</td>\n",
       "      <td>0</td>\n",
       "      <td>1</td>\n",
       "      <td>1</td>\n",
       "    </tr>\n",
       "    <tr>\n",
       "      <td>87485</td>\n",
       "      <td>1996</td>\n",
       "      <td>4</td>\n",
       "      <td>0.1</td>\n",
       "      <td>45.508333</td>\n",
       "      <td>-116.078333</td>\n",
       "      <td>13</td>\n",
       "      <td>2450309.5</td>\n",
       "      <td>6</td>\n",
       "      <td>1996-08-14</td>\n",
       "      <td>8</td>\n",
       "      <td>6</td>\n",
       "      <td>2</td>\n",
       "      <td>0</td>\n",
       "    </tr>\n",
       "  </tbody>\n",
       "</table>\n",
       "</div>"
      ],
      "text/plain": [
       "         FIRE_YEAR  NWCG_REPORTING_AGENCY  FIRE_SIZE   LATITUDE   LONGITUDE  \\\n",
       "1679293       2013                      8        6.0  36.087380  -91.770630   \n",
       "185900        1994                      0        0.2  45.976300  -89.889600   \n",
       "851219        2000                      8        1.5  31.413600  -87.267200   \n",
       "1199487       2010                      8       50.0  38.072160  -82.116499   \n",
       "87485         1996                      4        0.1  45.508333 -116.078333   \n",
       "\n",
       "         STATE  DISCOVERY_DATE  STAT_CAUSE_DESCR       DATE  MONTH  WEEKDAY  \\\n",
       "1679293      2       2456477.5                 8 2013-07-04      7        4   \n",
       "185900      49       2449463.5                 2 1994-04-21      4        4   \n",
       "851219       1       2451890.5                 3 2000-12-12     12        5   \n",
       "1199487     50       2455512.5                 0 2010-11-12     11        0   \n",
       "87485       13       2450309.5                 6 1996-08-14      8        6   \n",
       "\n",
       "         LABEL  ARSON  \n",
       "1679293      3      0  \n",
       "185900       0      0  \n",
       "851219       0      0  \n",
       "1199487      1      1  \n",
       "87485        2      0  "
      ]
     },
     "execution_count": 40,
     "metadata": {},
     "output_type": "execute_result"
    }
   ],
   "source": [
    "# interpret data after  labelEncoder\n",
    "df.head()"
   ]
  },
  {
   "cell_type": "code",
   "execution_count": 35,
   "metadata": {},
   "outputs": [
    {
     "data": {
      "text/plain": [
       "<matplotlib.axes._subplots.AxesSubplot at 0x1ab54aec10>"
      ]
     },
     "execution_count": 35,
     "metadata": {},
     "output_type": "execute_result"
    },
    {
     "data": {
      "image/png": "[encoded data removed]",
      "text/plain": [
       "<Figure size 864x432 with 2 Axes>"
      ]
     },
     "metadata": {
      "needs_background": "light"
     },
     "output_type": "display_data"
    }
   ],
   "source": [
    "# checking null values by heatmap\n",
    "plt.figure(figsize=(12,6))\n",
    "sns.heatmap(df.isna(),cmap=\"YlGnBu\")"
   ]
  },
  {
   "cell_type": "code",
   "execution_count": 39,
   "metadata": {},
   "outputs": [
    {
     "data": {
      "text/plain": [
       "<matplotlib.axes._subplots.AxesSubplot at 0x1aa899dcd0>"
      ]
     },
     "execution_count": 39,
     "metadata": {},
     "output_type": "execute_result"
    },
    {
     "data": {
      "image/png": "[encoded data removed]",
      "text/plain": [
       "<Figure size 864x576 with 2 Axes>"
      ]
     },
     "metadata": {
      "needs_background": "light"
     },
     "output_type": "display_data"
    }
   ],
   "source": [
    "# checking correlation again after data manipulation \n",
    "plt.figure(figsize = (12,8))\n",
    "sns.heatmap(df.corr())"
   ]
  },
  {
   "cell_type": "code",
   "execution_count": 41,
   "metadata": {},
   "outputs": [
    {
     "data": {
      "text/html": [
       "<div>\n",
       "<style scoped>\n",
       "    .dataframe tbody tr th:only-of-type {\n",
       "        vertical-align: middle;\n",
       "    }\n",
       "\n",
       "    .dataframe tbody tr th {\n",
       "        vertical-align: top;\n",
       "    }\n",
       "\n",
       "    .dataframe thead th {\n",
       "        text-align: right;\n",
       "    }\n",
       "</style>\n",
       "<table border=\"1\" class=\"dataframe\">\n",
       "  <thead>\n",
       "    <tr style=\"text-align: right;\">\n",
       "      <th></th>\n",
       "      <th>FIRE_YEAR</th>\n",
       "      <th>NWCG_REPORTING_AGENCY</th>\n",
       "      <th>FIRE_SIZE</th>\n",
       "      <th>LATITUDE</th>\n",
       "      <th>LONGITUDE</th>\n",
       "      <th>STATE</th>\n",
       "      <th>MONTH</th>\n",
       "      <th>WEEKDAY</th>\n",
       "      <th>LABEL</th>\n",
       "    </tr>\n",
       "  </thead>\n",
       "  <tbody>\n",
       "    <tr>\n",
       "      <td>1679293</td>\n",
       "      <td>2013</td>\n",
       "      <td>8</td>\n",
       "      <td>6.00</td>\n",
       "      <td>36.087380</td>\n",
       "      <td>-91.770630</td>\n",
       "      <td>2</td>\n",
       "      <td>7</td>\n",
       "      <td>4</td>\n",
       "      <td>3</td>\n",
       "    </tr>\n",
       "    <tr>\n",
       "      <td>185900</td>\n",
       "      <td>1994</td>\n",
       "      <td>0</td>\n",
       "      <td>0.20</td>\n",
       "      <td>45.976300</td>\n",
       "      <td>-89.889600</td>\n",
       "      <td>49</td>\n",
       "      <td>4</td>\n",
       "      <td>4</td>\n",
       "      <td>0</td>\n",
       "    </tr>\n",
       "    <tr>\n",
       "      <td>851219</td>\n",
       "      <td>2000</td>\n",
       "      <td>8</td>\n",
       "      <td>1.50</td>\n",
       "      <td>31.413600</td>\n",
       "      <td>-87.267200</td>\n",
       "      <td>1</td>\n",
       "      <td>12</td>\n",
       "      <td>5</td>\n",
       "      <td>0</td>\n",
       "    </tr>\n",
       "    <tr>\n",
       "      <td>1199487</td>\n",
       "      <td>2010</td>\n",
       "      <td>8</td>\n",
       "      <td>50.00</td>\n",
       "      <td>38.072160</td>\n",
       "      <td>-82.116499</td>\n",
       "      <td>50</td>\n",
       "      <td>11</td>\n",
       "      <td>0</td>\n",
       "      <td>1</td>\n",
       "    </tr>\n",
       "    <tr>\n",
       "      <td>87485</td>\n",
       "      <td>1996</td>\n",
       "      <td>4</td>\n",
       "      <td>0.10</td>\n",
       "      <td>45.508333</td>\n",
       "      <td>-116.078333</td>\n",
       "      <td>13</td>\n",
       "      <td>8</td>\n",
       "      <td>6</td>\n",
       "      <td>2</td>\n",
       "    </tr>\n",
       "    <tr>\n",
       "      <td>...</td>\n",
       "      <td>...</td>\n",
       "      <td>...</td>\n",
       "      <td>...</td>\n",
       "      <td>...</td>\n",
       "      <td>...</td>\n",
       "      <td>...</td>\n",
       "      <td>...</td>\n",
       "      <td>...</td>\n",
       "      <td>...</td>\n",
       "    </tr>\n",
       "    <tr>\n",
       "      <td>813822</td>\n",
       "      <td>2005</td>\n",
       "      <td>8</td>\n",
       "      <td>1.00</td>\n",
       "      <td>31.356900</td>\n",
       "      <td>-88.920800</td>\n",
       "      <td>25</td>\n",
       "      <td>11</td>\n",
       "      <td>6</td>\n",
       "      <td>1</td>\n",
       "    </tr>\n",
       "    <tr>\n",
       "      <td>375899</td>\n",
       "      <td>2004</td>\n",
       "      <td>8</td>\n",
       "      <td>0.10</td>\n",
       "      <td>41.940000</td>\n",
       "      <td>-71.080000</td>\n",
       "      <td>19</td>\n",
       "      <td>6</td>\n",
       "      <td>5</td>\n",
       "      <td>3</td>\n",
       "    </tr>\n",
       "    <tr>\n",
       "      <td>685184</td>\n",
       "      <td>1995</td>\n",
       "      <td>8</td>\n",
       "      <td>0.50</td>\n",
       "      <td>45.733333</td>\n",
       "      <td>-68.300000</td>\n",
       "      <td>21</td>\n",
       "      <td>8</td>\n",
       "      <td>6</td>\n",
       "      <td>3</td>\n",
       "    </tr>\n",
       "    <tr>\n",
       "      <td>1394539</td>\n",
       "      <td>1993</td>\n",
       "      <td>8</td>\n",
       "      <td>1.08</td>\n",
       "      <td>31.515700</td>\n",
       "      <td>-83.754900</td>\n",
       "      <td>10</td>\n",
       "      <td>8</td>\n",
       "      <td>6</td>\n",
       "      <td>0</td>\n",
       "    </tr>\n",
       "    <tr>\n",
       "      <td>1349128</td>\n",
       "      <td>2002</td>\n",
       "      <td>8</td>\n",
       "      <td>0.10</td>\n",
       "      <td>41.952662</td>\n",
       "      <td>-74.131382</td>\n",
       "      <td>34</td>\n",
       "      <td>6</td>\n",
       "      <td>0</td>\n",
       "      <td>3</td>\n",
       "    </tr>\n",
       "  </tbody>\n",
       "</table>\n",
       "<p>188047 rows × 9 columns</p>\n",
       "</div>"
      ],
      "text/plain": [
       "         FIRE_YEAR  NWCG_REPORTING_AGENCY  FIRE_SIZE   LATITUDE   LONGITUDE  \\\n",
       "1679293       2013                      8       6.00  36.087380  -91.770630   \n",
       "185900        1994                      0       0.20  45.976300  -89.889600   \n",
       "851219        2000                      8       1.50  31.413600  -87.267200   \n",
       "1199487       2010                      8      50.00  38.072160  -82.116499   \n",
       "87485         1996                      4       0.10  45.508333 -116.078333   \n",
       "...            ...                    ...        ...        ...         ...   \n",
       "813822        2005                      8       1.00  31.356900  -88.920800   \n",
       "375899        2004                      8       0.10  41.940000  -71.080000   \n",
       "685184        1995                      8       0.50  45.733333  -68.300000   \n",
       "1394539       1993                      8       1.08  31.515700  -83.754900   \n",
       "1349128       2002                      8       0.10  41.952662  -74.131382   \n",
       "\n",
       "         STATE  MONTH  WEEKDAY  LABEL  \n",
       "1679293      2      7        4      3  \n",
       "185900      49      4        4      0  \n",
       "851219       1     12        5      0  \n",
       "1199487     50     11        0      1  \n",
       "87485       13      8        6      2  \n",
       "...        ...    ...      ...    ...  \n",
       "813822      25     11        6      1  \n",
       "375899      19      6        5      3  \n",
       "685184      21      8        6      3  \n",
       "1394539     10      8        6      0  \n",
       "1349128     34      6        0      3  \n",
       "\n",
       "[188047 rows x 9 columns]"
      ]
     },
     "execution_count": 41,
     "metadata": {},
     "output_type": "execute_result"
    }
   ],
   "source": [
    "# Preparing data for spliting train and test data of four class of target feature \n",
    "df_four = df.drop(['STAT_CAUSE_DESCR','DISCOVERY_DATE','DATE','ARSON'],axis = 1)\n",
    "df_four"
   ]
  },
  {
   "cell_type": "code",
   "execution_count": 42,
   "metadata": {},
   "outputs": [
    {
     "data": {
      "text/html": [
       "<div>\n",
       "<style scoped>\n",
       "    .dataframe tbody tr th:only-of-type {\n",
       "        vertical-align: middle;\n",
       "    }\n",
       "\n",
       "    .dataframe tbody tr th {\n",
       "        vertical-align: top;\n",
       "    }\n",
       "\n",
       "    .dataframe thead th {\n",
       "        text-align: right;\n",
       "    }\n",
       "</style>\n",
       "<table border=\"1\" class=\"dataframe\">\n",
       "  <thead>\n",
       "    <tr style=\"text-align: right;\">\n",
       "      <th></th>\n",
       "      <th>FIRE_YEAR</th>\n",
       "      <th>LATITUDE</th>\n",
       "      <th>LONGITUDE</th>\n",
       "      <th>STATE</th>\n",
       "      <th>MONTH</th>\n",
       "      <th>WEEKDAY</th>\n",
       "      <th>ARSON</th>\n",
       "    </tr>\n",
       "  </thead>\n",
       "  <tbody>\n",
       "    <tr>\n",
       "      <td>1679293</td>\n",
       "      <td>2013</td>\n",
       "      <td>36.087380</td>\n",
       "      <td>-91.770630</td>\n",
       "      <td>2</td>\n",
       "      <td>7</td>\n",
       "      <td>4</td>\n",
       "      <td>0</td>\n",
       "    </tr>\n",
       "    <tr>\n",
       "      <td>185900</td>\n",
       "      <td>1994</td>\n",
       "      <td>45.976300</td>\n",
       "      <td>-89.889600</td>\n",
       "      <td>49</td>\n",
       "      <td>4</td>\n",
       "      <td>4</td>\n",
       "      <td>0</td>\n",
       "    </tr>\n",
       "    <tr>\n",
       "      <td>851219</td>\n",
       "      <td>2000</td>\n",
       "      <td>31.413600</td>\n",
       "      <td>-87.267200</td>\n",
       "      <td>1</td>\n",
       "      <td>12</td>\n",
       "      <td>5</td>\n",
       "      <td>0</td>\n",
       "    </tr>\n",
       "    <tr>\n",
       "      <td>1199487</td>\n",
       "      <td>2010</td>\n",
       "      <td>38.072160</td>\n",
       "      <td>-82.116499</td>\n",
       "      <td>50</td>\n",
       "      <td>11</td>\n",
       "      <td>0</td>\n",
       "      <td>1</td>\n",
       "    </tr>\n",
       "    <tr>\n",
       "      <td>87485</td>\n",
       "      <td>1996</td>\n",
       "      <td>45.508333</td>\n",
       "      <td>-116.078333</td>\n",
       "      <td>13</td>\n",
       "      <td>8</td>\n",
       "      <td>6</td>\n",
       "      <td>0</td>\n",
       "    </tr>\n",
       "    <tr>\n",
       "      <td>...</td>\n",
       "      <td>...</td>\n",
       "      <td>...</td>\n",
       "      <td>...</td>\n",
       "      <td>...</td>\n",
       "      <td>...</td>\n",
       "      <td>...</td>\n",
       "      <td>...</td>\n",
       "    </tr>\n",
       "    <tr>\n",
       "      <td>813822</td>\n",
       "      <td>2005</td>\n",
       "      <td>31.356900</td>\n",
       "      <td>-88.920800</td>\n",
       "      <td>25</td>\n",
       "      <td>11</td>\n",
       "      <td>6</td>\n",
       "      <td>1</td>\n",
       "    </tr>\n",
       "    <tr>\n",
       "      <td>375899</td>\n",
       "      <td>2004</td>\n",
       "      <td>41.940000</td>\n",
       "      <td>-71.080000</td>\n",
       "      <td>19</td>\n",
       "      <td>6</td>\n",
       "      <td>5</td>\n",
       "      <td>0</td>\n",
       "    </tr>\n",
       "    <tr>\n",
       "      <td>685184</td>\n",
       "      <td>1995</td>\n",
       "      <td>45.733333</td>\n",
       "      <td>-68.300000</td>\n",
       "      <td>21</td>\n",
       "      <td>8</td>\n",
       "      <td>6</td>\n",
       "      <td>0</td>\n",
       "    </tr>\n",
       "    <tr>\n",
       "      <td>1394539</td>\n",
       "      <td>1993</td>\n",
       "      <td>31.515700</td>\n",
       "      <td>-83.754900</td>\n",
       "      <td>10</td>\n",
       "      <td>8</td>\n",
       "      <td>6</td>\n",
       "      <td>0</td>\n",
       "    </tr>\n",
       "    <tr>\n",
       "      <td>1349128</td>\n",
       "      <td>2002</td>\n",
       "      <td>41.952662</td>\n",
       "      <td>-74.131382</td>\n",
       "      <td>34</td>\n",
       "      <td>6</td>\n",
       "      <td>0</td>\n",
       "      <td>0</td>\n",
       "    </tr>\n",
       "  </tbody>\n",
       "</table>\n",
       "<p>188047 rows × 7 columns</p>\n",
       "</div>"
      ],
      "text/plain": [
       "         FIRE_YEAR   LATITUDE   LONGITUDE  STATE  MONTH  WEEKDAY  ARSON\n",
       "1679293       2013  36.087380  -91.770630      2      7        4      0\n",
       "185900        1994  45.976300  -89.889600     49      4        4      0\n",
       "851219        2000  31.413600  -87.267200      1     12        5      0\n",
       "1199487       2010  38.072160  -82.116499     50     11        0      1\n",
       "87485         1996  45.508333 -116.078333     13      8        6      0\n",
       "...            ...        ...         ...    ...    ...      ...    ...\n",
       "813822        2005  31.356900  -88.920800     25     11        6      1\n",
       "375899        2004  41.940000  -71.080000     19      6        5      0\n",
       "685184        1995  45.733333  -68.300000     21      8        6      0\n",
       "1394539       1993  31.515700  -83.754900     10      8        6      0\n",
       "1349128       2002  41.952662  -74.131382     34      6        0      0\n",
       "\n",
       "[188047 rows x 7 columns]"
      ]
     },
     "execution_count": 42,
     "metadata": {},
     "output_type": "execute_result"
    }
   ],
   "source": [
    "# Preparing data for spliting train and test data of One class(Arson) of target feature \n",
    "df_arson = df.drop(['STAT_CAUSE_DESCR','DISCOVERY_DATE','DATE','LABEL','NWCG_REPORTING_AGENCY','FIRE_SIZE'],axis = 1)\n",
    "df_arson"
   ]
  },
  {
   "cell_type": "code",
   "execution_count": 43,
   "metadata": {},
   "outputs": [
    {
     "data": {
      "text/plain": [
       "<matplotlib.axes._subplots.AxesSubplot at 0x1aa6885890>"
      ]
     },
     "execution_count": 43,
     "metadata": {},
     "output_type": "execute_result"
    },
    {
     "data": {
      "image/png": "[encoded data removed]",
      "text/plain": [
       "<Figure size 432x288 with 1 Axes>"
      ]
     },
     "metadata": {
      "needs_background": "light"
     },
     "output_type": "display_data"
    }
   ],
   "source": [
    "# analysis imbalance data in target feature \n",
    "df_arson['ARSON'].value_counts().plot(kind = 'bar')"
   ]
  },
  {
   "cell_type": "markdown",
   "metadata": {},
   "source": [
    "## Modelling "
   ]
  },
  {
   "cell_type": "code",
   "execution_count": null,
   "metadata": {},
   "outputs": [],
   "source": [
    "from sklearn.ensemble import RandomForestClassifier\n",
    "from sklearn.tree import DecisionTreeClassifier\n",
    "from sklearn.svm import SVC \n",
    "from sklearn.neighbors import KNeighborsClassifier\n",
    "from sklearn.linear_model import LogisticRegression\n",
    "from sklearn.naive_bayes import GaussianNB\n",
    "\n",
    "from sklearn.preprocessing import StandardScaler\n",
    "from sklearn.pipeline import Pipeline\n",
    "from sklearn.model_selection import GridSearchCV\n",
    "\n",
    "from sklearn.metrics import accuracy_score,confusion_matrix,f1_score,classification_report\n",
    "\n",
    "import sklearn.model_selection as model_selection\n",
    "\n",
    "#randomForest = RandomForestClassifier(n_estimators=50)\n",
    "#DecisionTree = DecisionTreeClassifier()\n",
    "#Svm_model = SVC()\n",
    "#KNN=KNeighborsClassifier()\n",
    "#Logist = LogisticRegression()\n",
    "#gauss_naive = GaussianNB()\n",
    "\n",
    "#model_list=[randomForest,DecisionTree,Svm_model,KNN,Logist,gauss_naive]"
   ]
  },
  {
   "cell_type": "code",
   "execution_count": 45,
   "metadata": {},
   "outputs": [],
   "source": [
    "#For four category class\n",
    "X= df_four.drop(['LABEL'],axis = 1)\n",
    "y = df_four.LABEL"
   ]
  },
  {
   "cell_type": "code",
   "execution_count": 340,
   "metadata": {},
   "outputs": [
    {
     "data": {
      "text/plain": [
       "(100000, 10)"
      ]
     },
     "execution_count": 340,
     "metadata": {},
     "output_type": "execute_result"
    }
   ],
   "source": [
    "# all class \n",
    "#X= df.drop(['STAT_CAUSE_DESCR'],axis = 1)\n",
    "#y = df.STAT_CAUSE_DESCR"
   ]
  },
  {
   "cell_type": "code",
   "execution_count": 55,
   "metadata": {},
   "outputs": [
    {
     "name": "stdout",
     "output_type": "stream",
     "text": [
      "(239780, 6) (80024, 6)\n"
     ]
    }
   ],
   "source": [
    "# split data into train and test data \n",
    "# SMOTE class balance target inbalance data by oversampling \n",
    "from imblearn.over_sampling import SMOTE\n",
    "from sklearn.model_selection import train_test_split\n",
    "X_train,X_test,y_train,y_test = train_test_split(X,y,test_size = .25,random_state = 43)\n",
    "\n",
    "sm= SMOTE(random_state=23)\n",
    "X_train,y_train = sm.fit_sample(X_train,y_train)\n",
    "X_test,y_test = sm.fit_sample(X_test,y_test)\n",
    "\n",
    "print(X_train.shape,X_test.shape)"
   ]
  },
  {
   "cell_type": "code",
   "execution_count": 47,
   "metadata": {},
   "outputs": [
    {
     "data": {
      "text/plain": [
       "(array([0, 1, 2, 3]), array([20707, 20707, 20707, 20707]))"
      ]
     },
     "execution_count": 47,
     "metadata": {},
     "output_type": "execute_result"
    }
   ],
   "source": [
    "# check balance in target feature \n",
    "np.unique(y_test,return_counts=True)"
   ]
  },
  {
   "cell_type": "code",
   "execution_count": 56,
   "metadata": {},
   "outputs": [
    {
     "data": {
      "text/html": [
       "<div>\n",
       "<style scoped>\n",
       "    .dataframe tbody tr th:only-of-type {\n",
       "        vertical-align: middle;\n",
       "    }\n",
       "\n",
       "    .dataframe tbody tr th {\n",
       "        vertical-align: top;\n",
       "    }\n",
       "\n",
       "    .dataframe thead th {\n",
       "        text-align: right;\n",
       "    }\n",
       "</style>\n",
       "<table border=\"1\" class=\"dataframe\">\n",
       "  <thead>\n",
       "    <tr style=\"text-align: right;\">\n",
       "      <th></th>\n",
       "      <th>FIRE_YEAR</th>\n",
       "      <th>LATITUDE</th>\n",
       "      <th>LONGITUDE</th>\n",
       "      <th>STATE</th>\n",
       "      <th>MONTH</th>\n",
       "      <th>WEEKDAY</th>\n",
       "    </tr>\n",
       "  </thead>\n",
       "  <tbody>\n",
       "    <tr>\n",
       "      <td>0</td>\n",
       "      <td>1.662097</td>\n",
       "      <td>-0.206071</td>\n",
       "      <td>0.656105</td>\n",
       "      <td>0.241943</td>\n",
       "      <td>-1.536863</td>\n",
       "      <td>1.602076</td>\n",
       "    </tr>\n",
       "    <tr>\n",
       "      <td>1</td>\n",
       "      <td>-0.635611</td>\n",
       "      <td>-1.343468</td>\n",
       "      <td>0.822449</td>\n",
       "      <td>-0.921896</td>\n",
       "      <td>-0.226765</td>\n",
       "      <td>1.602076</td>\n",
       "    </tr>\n",
       "    <tr>\n",
       "      <td>2</td>\n",
       "      <td>0.896194</td>\n",
       "      <td>0.562192</td>\n",
       "      <td>-0.140889</td>\n",
       "      <td>-0.469292</td>\n",
       "      <td>-1.209338</td>\n",
       "      <td>1.089617</td>\n",
       "    </tr>\n",
       "    <tr>\n",
       "      <td>3</td>\n",
       "      <td>0.896194</td>\n",
       "      <td>1.967901</td>\n",
       "      <td>-1.581119</td>\n",
       "      <td>1.599755</td>\n",
       "      <td>0.755809</td>\n",
       "      <td>0.577158</td>\n",
       "    </tr>\n",
       "    <tr>\n",
       "      <td>4</td>\n",
       "      <td>-0.482430</td>\n",
       "      <td>-1.054853</td>\n",
       "      <td>0.774671</td>\n",
       "      <td>-0.921896</td>\n",
       "      <td>-0.554289</td>\n",
       "      <td>-0.960218</td>\n",
       "    </tr>\n",
       "  </tbody>\n",
       "</table>\n",
       "</div>"
      ],
      "text/plain": [
       "   FIRE_YEAR  LATITUDE  LONGITUDE     STATE     MONTH   WEEKDAY\n",
       "0   1.662097 -0.206071   0.656105  0.241943 -1.536863  1.602076\n",
       "1  -0.635611 -1.343468   0.822449 -0.921896 -0.226765  1.602076\n",
       "2   0.896194  0.562192  -0.140889 -0.469292 -1.209338  1.089617\n",
       "3   0.896194  1.967901  -1.581119  1.599755  0.755809  0.577158\n",
       "4  -0.482430 -1.054853   0.774671 -0.921896 -0.554289 -0.960218"
      ]
     },
     "execution_count": 56,
     "metadata": {},
     "output_type": "execute_result"
    }
   ],
   "source": [
    "# scalling \n",
    "from sklearn.preprocessing import StandardScaler\n",
    "ss = StandardScaler()\n",
    "X_train_scale = pd.DataFrame(ss.fit_transform(X_train),columns=X_train.columns,index=X_train.index)\n",
    "X_train_scale.head()"
   ]
  },
  {
   "cell_type": "code",
   "execution_count": 49,
   "metadata": {},
   "outputs": [],
   "source": []
  },
  {
   "cell_type": "markdown",
   "metadata": {},
   "source": [
    "## For four Classes Accident , Natural , Crime , Other "
   ]
  },
  {
   "cell_type": "code",
   "execution_count": 50,
   "metadata": {},
   "outputs": [
    {
     "name": "stdout",
     "output_type": "stream",
     "text": [
      "LR Accuracy_score:0.402468 std:(0.005459) \n",
      "KNN Accuracy_score:0.739594 std:(0.032133) \n",
      "CART Accuracy_score:0.694125 std:(0.030918) \n",
      "NB Accuracy_score:0.466783 std:(0.013459) \n",
      "RN Accuracy_score:0.788450 std:(0.034888) \n"
     ]
    }
   ],
   "source": [
    "# model fitting by cross validation for only one class \n",
    "models = []\n",
    "models.append(('LR',LogisticRegression()))\n",
    "models.append(('KNN',KNeighborsClassifier()))\n",
    "models.append(('CART',DecisionTreeClassifier()))\n",
    "models.append(('NB',GaussianNB()))\n",
    "models.append(('RN',RandomForestClassifier()))\n",
    "\n",
    "results = []\n",
    "names = []\n",
    "for name,model in models:\n",
    "    #Kfold = model_selection.KFold(n_splits=10,random_state=23)\n",
    "    cv_result = model_selection.cross_validate(model,X = X_train,y = y_train,cv = 10,scoring='accuracy')\n",
    "    #results.append(cv_result['test_score'])\n",
    "    #names.append(name)\n",
    "    msg = \"%s Accuracy_score:%f std:(%f) \" %(name,cv_result['test_score'].mean(), cv_result['test_score'].std())\n",
    "    print(msg)"
   ]
  },
  {
   "cell_type": "code",
   "execution_count": 51,
   "metadata": {},
   "outputs": [
    {
     "name": "stdout",
     "output_type": "stream",
     "text": [
      "LR test data accuracy_score:0.404851 \n",
      "KNN test data accuracy_score:0.597117 \n",
      "CART test data accuracy_score:0.586384 \n",
      "NB test data accuracy_score:0.47426 \n",
      "RN test data accuracy_score:0.676402 \n"
     ]
    }
   ],
   "source": [
    "#Accuracy score in test data of four class  \n",
    "from sklearn.metrics import confusion_matrix,f1_score,accuracy_score,precision_score,f1_score,recall_score\n",
    "from yellowbrick.classifier import ConfusionMatrix\n",
    "for name,model in models:\n",
    "    y_pred = model.fit(X_train,y_train).predict(X_test)\n",
    "    print(f\"{name} test data accuracy_score:{round(accuracy_score(y_test,y_pred),6)} \") "
   ]
  },
  {
   "cell_type": "code",
   "execution_count": 52,
   "metadata": {},
   "outputs": [
    {
     "name": "stdout",
     "output_type": "stream",
     "text": [
      "LR test data accuracy_score:0.404851 \n"
     ]
    },
    {
     "data": {
      "image/png": "[encoded data removed]",
      "text/plain": [
       "<Figure size 576x396 with 1 Axes>"
      ]
     },
     "metadata": {},
     "output_type": "display_data"
    },
    {
     "name": "stdout",
     "output_type": "stream",
     "text": [
      "KNN test data accuracy_score:0.597117 \n"
     ]
    },
    {
     "data": {
      "image/png": "[encoded data removed]",
      "text/plain": [
       "<Figure size 576x396 with 1 Axes>"
      ]
     },
     "metadata": {},
     "output_type": "display_data"
    },
    {
     "name": "stdout",
     "output_type": "stream",
     "text": [
      "CART test data accuracy_score:0.58677 \n"
     ]
    },
    {
     "data": {
      "image/png": "[encoded data removed]",
      "text/plain": [
       "<Figure size 576x396 with 1 Axes>"
      ]
     },
     "metadata": {},
     "output_type": "display_data"
    },
    {
     "name": "stdout",
     "output_type": "stream",
     "text": [
      "NB test data accuracy_score:0.47426 \n"
     ]
    },
    {
     "data": {
      "image/png": "[encoded data removed]",
      "text/plain": [
       "<Figure size 576x396 with 1 Axes>"
      ]
     },
     "metadata": {},
     "output_type": "display_data"
    },
    {
     "name": "stdout",
     "output_type": "stream",
     "text": [
      "RN test data accuracy_score:0.676486 \n"
     ]
    },
    {
     "data": {
      "image/png": "[encoded data removed]",
      "text/plain": [
       "<Figure size 576x396 with 1 Axes>"
      ]
     },
     "metadata": {},
     "output_type": "display_data"
    }
   ],
   "source": [
    "#Accuracy score in test data of four class  \n",
    "from sklearn.metrics import confusion_matrix,f1_score,accuracy_score,precision_score,f1_score,recall_score\n",
    "from yellowbrick.classifier import ConfusionMatrix\n",
    "for name,model in models:\n",
    "    y_pred = model.fit(X_train,y_train).predict(X_test)\n",
    "    print(f\"{name} test data accuracy_score:{round(accuracy_score(y_test,y_pred),6)} \")\n",
    "    cm = ConfusionMatrix(model,classes =[0,1,2,3])\n",
    "    cm.fit(X_train,y_train)\n",
    "    cm.score(X_test,y_test)\n",
    "    cm.poof()"
   ]
  },
  {
   "cell_type": "code",
   "execution_count": 53,
   "metadata": {},
   "outputs": [
    {
     "name": "stdout",
     "output_type": "stream",
     "text": [
      "Confusion Matrix of four class target features by Logistic Regression algorithm\n",
      "-------------------------------------------------------------------------------\n"
     ]
    },
    {
     "data": {
      "text/html": [
       "<div>\n",
       "<style scoped>\n",
       "    .dataframe tbody tr th:only-of-type {\n",
       "        vertical-align: middle;\n",
       "    }\n",
       "\n",
       "    .dataframe tbody tr th {\n",
       "        vertical-align: top;\n",
       "    }\n",
       "\n",
       "    .dataframe thead th {\n",
       "        text-align: right;\n",
       "    }\n",
       "</style>\n",
       "<table border=\"1\" class=\"dataframe\">\n",
       "  <thead>\n",
       "    <tr style=\"text-align: right;\">\n",
       "      <th></th>\n",
       "      <th>pred_0</th>\n",
       "      <th>pred_1</th>\n",
       "      <th>pred_2</th>\n",
       "      <th>pred_3</th>\n",
       "    </tr>\n",
       "  </thead>\n",
       "  <tbody>\n",
       "    <tr>\n",
       "      <td>true_0</td>\n",
       "      <td>13514</td>\n",
       "      <td>3201</td>\n",
       "      <td>1523</td>\n",
       "      <td>2469</td>\n",
       "    </tr>\n",
       "    <tr>\n",
       "      <td>true_1</td>\n",
       "      <td>5377</td>\n",
       "      <td>12362</td>\n",
       "      <td>858</td>\n",
       "      <td>2110</td>\n",
       "    </tr>\n",
       "    <tr>\n",
       "      <td>true_2</td>\n",
       "      <td>1622</td>\n",
       "      <td>518</td>\n",
       "      <td>17478</td>\n",
       "      <td>1089</td>\n",
       "    </tr>\n",
       "    <tr>\n",
       "      <td>true_3</td>\n",
       "      <td>4765</td>\n",
       "      <td>1823</td>\n",
       "      <td>1441</td>\n",
       "      <td>12678</td>\n",
       "    </tr>\n",
       "  </tbody>\n",
       "</table>\n",
       "</div>"
      ],
      "text/plain": [
       "        pred_0  pred_1  pred_2  pred_3\n",
       "true_0   13514    3201    1523    2469\n",
       "true_1    5377   12362     858    2110\n",
       "true_2    1622     518   17478    1089\n",
       "true_3    4765    1823    1441   12678"
      ]
     },
     "execution_count": 53,
     "metadata": {},
     "output_type": "execute_result"
    }
   ],
   "source": [
    "# display number of confusion matrix \n",
    "print(\"Confusion Matrix of four class target features by Logistic Regression algorithm\")\n",
    "print(\"-------------------------------------------------------------------------------\")\n",
    "pd.DataFrame(confusion_matrix(y_test,y_pred),columns=['pred_0','pred_1','pred_2','pred_3'],index=['true_0','true_1','true_2','true_3'])"
   ]
  },
  {
   "cell_type": "markdown",
   "metadata": {},
   "source": [
    "## Modelling for predicting one class Crime ( Arson)"
   ]
  },
  {
   "cell_type": "code",
   "execution_count": 57,
   "metadata": {},
   "outputs": [],
   "source": [
    "# for Arson category\n",
    "X= df_arson.drop(['ARSON'],axis = 1)\n",
    "y = df_arson.ARSON"
   ]
  },
  {
   "cell_type": "code",
   "execution_count": 58,
   "metadata": {},
   "outputs": [
    {
     "name": "stdout",
     "output_type": "stream",
     "text": [
      "(239780, 6) (80024, 6)\n"
     ]
    }
   ],
   "source": [
    "# split data into train and test data \n",
    "# SMOTE class balance target inbalance data by oversampling \n",
    "from imblearn.over_sampling import SMOTE\n",
    "from sklearn.model_selection import train_test_split\n",
    "X_train,X_test,y_train,y_test = train_test_split(X,y,test_size = .25,random_state = 43)\n",
    "\n",
    "sm= SMOTE(random_state=23)\n",
    "X_train,y_train = sm.fit_sample(X_train,y_train)\n",
    "X_test,y_test = sm.fit_sample(X_test,y_test)\n",
    "\n",
    "print(X_train.shape,X_test.shape)"
   ]
  },
  {
   "cell_type": "code",
   "execution_count": 59,
   "metadata": {},
   "outputs": [
    {
     "data": {
      "text/plain": [
       "(array([0, 1]), array([40012, 40012]))"
      ]
     },
     "execution_count": 59,
     "metadata": {},
     "output_type": "execute_result"
    }
   ],
   "source": [
    "# check balance in target feature \n",
    "np.unique(y_test,return_counts=True)"
   ]
  },
  {
   "cell_type": "code",
   "execution_count": 60,
   "metadata": {},
   "outputs": [
    {
     "data": {
      "text/html": [
       "<div>\n",
       "<style scoped>\n",
       "    .dataframe tbody tr th:only-of-type {\n",
       "        vertical-align: middle;\n",
       "    }\n",
       "\n",
       "    .dataframe tbody tr th {\n",
       "        vertical-align: top;\n",
       "    }\n",
       "\n",
       "    .dataframe thead th {\n",
       "        text-align: right;\n",
       "    }\n",
       "</style>\n",
       "<table border=\"1\" class=\"dataframe\">\n",
       "  <thead>\n",
       "    <tr style=\"text-align: right;\">\n",
       "      <th></th>\n",
       "      <th>FIRE_YEAR</th>\n",
       "      <th>LATITUDE</th>\n",
       "      <th>LONGITUDE</th>\n",
       "      <th>STATE</th>\n",
       "      <th>MONTH</th>\n",
       "      <th>WEEKDAY</th>\n",
       "    </tr>\n",
       "  </thead>\n",
       "  <tbody>\n",
       "    <tr>\n",
       "      <td>0</td>\n",
       "      <td>1.662097</td>\n",
       "      <td>-0.206071</td>\n",
       "      <td>0.656105</td>\n",
       "      <td>0.241943</td>\n",
       "      <td>-1.536863</td>\n",
       "      <td>1.602076</td>\n",
       "    </tr>\n",
       "    <tr>\n",
       "      <td>1</td>\n",
       "      <td>-0.635611</td>\n",
       "      <td>-1.343468</td>\n",
       "      <td>0.822449</td>\n",
       "      <td>-0.921896</td>\n",
       "      <td>-0.226765</td>\n",
       "      <td>1.602076</td>\n",
       "    </tr>\n",
       "    <tr>\n",
       "      <td>2</td>\n",
       "      <td>0.896194</td>\n",
       "      <td>0.562192</td>\n",
       "      <td>-0.140889</td>\n",
       "      <td>-0.469292</td>\n",
       "      <td>-1.209338</td>\n",
       "      <td>1.089617</td>\n",
       "    </tr>\n",
       "    <tr>\n",
       "      <td>3</td>\n",
       "      <td>0.896194</td>\n",
       "      <td>1.967901</td>\n",
       "      <td>-1.581119</td>\n",
       "      <td>1.599755</td>\n",
       "      <td>0.755809</td>\n",
       "      <td>0.577158</td>\n",
       "    </tr>\n",
       "    <tr>\n",
       "      <td>4</td>\n",
       "      <td>-0.482430</td>\n",
       "      <td>-1.054853</td>\n",
       "      <td>0.774671</td>\n",
       "      <td>-0.921896</td>\n",
       "      <td>-0.554289</td>\n",
       "      <td>-0.960218</td>\n",
       "    </tr>\n",
       "  </tbody>\n",
       "</table>\n",
       "</div>"
      ],
      "text/plain": [
       "   FIRE_YEAR  LATITUDE  LONGITUDE     STATE     MONTH   WEEKDAY\n",
       "0   1.662097 -0.206071   0.656105  0.241943 -1.536863  1.602076\n",
       "1  -0.635611 -1.343468   0.822449 -0.921896 -0.226765  1.602076\n",
       "2   0.896194  0.562192  -0.140889 -0.469292 -1.209338  1.089617\n",
       "3   0.896194  1.967901  -1.581119  1.599755  0.755809  0.577158\n",
       "4  -0.482430 -1.054853   0.774671 -0.921896 -0.554289 -0.960218"
      ]
     },
     "execution_count": 60,
     "metadata": {},
     "output_type": "execute_result"
    }
   ],
   "source": [
    "# scalling \n",
    "from sklearn.preprocessing import StandardScaler\n",
    "ss = StandardScaler()\n",
    "X_train_scale = pd.DataFrame(ss.fit_transform(X_train),columns=X_train.columns,index=X_train.index)\n",
    "X_train_scale.head()"
   ]
  },
  {
   "cell_type": "code",
   "execution_count": 61,
   "metadata": {},
   "outputs": [
    {
     "name": "stdout",
     "output_type": "stream",
     "text": [
      "LR Accuracy_score:0.598932 std:(0.003940) ,f1_score: 0.623203 ,Recall : 0.663391 , Precision: 0.587622\n",
      "KNN Accuracy_score:0.845204 std:(0.007241) ,f1_score: 0.858527 ,Recall : 0.939795 , Precision: 0.790268\n",
      "CART Accuracy_score:0.815631 std:(0.013674) ,f1_score: 0.818695 ,Recall : 0.833914 , Precision: 0.804368\n",
      "NB Accuracy_score:0.634828 std:(0.002618) ,f1_score: 0.672877 ,Recall : 0.751180 , Precision: 0.609373\n",
      "RN Accuracy_score:0.884315 std:(0.014703) ,f1_score: 0.887001 ,Recall : 0.910326 , Precision: 0.865213\n"
     ]
    }
   ],
   "source": [
    "# model fitting by cross validation for only one class ( Arson )\n",
    "models = []\n",
    "models.append(('LR',LogisticRegression()))\n",
    "models.append(('KNN',KNeighborsClassifier()))\n",
    "models.append(('CART',DecisionTreeClassifier()))\n",
    "models.append(('NB',GaussianNB()))\n",
    "models.append(('RN',RandomForestClassifier()))\n",
    "\n",
    "results = []\n",
    "names = []\n",
    "for name,model in models:\n",
    "    #Kfold = model_selection.KFold(n_splits=10,random_state=23)\n",
    "    cv_result = model_selection.cross_validate(model,X = X_train,y = y_train,cv = 10,scoring=['accuracy','f1','recall','precision'])\n",
    "    #results.append(cv_result['test_score'])\n",
    "    #names.append(name)\n",
    "    msg = \"%s Accuracy_score:%f std:(%f) ,f1_score: %f ,Recall : %f , Precision: %f\" %(name,cv_result['test_accuracy'].mean(),\n",
    "                                                                                       cv_result['test_accuracy'].std(),\n",
    "                                                                                       cv_result['test_f1'].mean(),\n",
    "                                                                                       cv_result['test_recall'].mean(),\n",
    "                                                                                       cv_result['test_precision'].mean())\n",
    "    print(msg)"
   ]
  },
  {
   "cell_type": "code",
   "execution_count": 62,
   "metadata": {},
   "outputs": [
    {
     "name": "stdout",
     "output_type": "stream",
     "text": [
      "LR test data accuracy_score:0.60152  f1_score:0.62698  recall_score:0.669774  Precision score:0.589326\n",
      "KNN test data accuracy_score:0.706051  f1_score:0.691473  recall_score:0.658802  Precision score:0.727554\n",
      "CART test data accuracy_score:0.699003  f1_score:0.664914  recall_score:0.597271  Precision score:0.749835\n",
      "NB test data accuracy_score:0.633785  f1_score:0.672676  recall_score:0.752599  Precision score:0.608098\n",
      "RN test data accuracy_score:0.742602  f1_score:0.707423  recall_score:0.622363  Precision score:0.819414\n"
     ]
    }
   ],
   "source": [
    "#Accuracy score in test data \n",
    "from sklearn.metrics import confusion_matrix,f1_score,accuracy_score,precision_score,f1_score,recall_score\n",
    "from yellowbrick.classifier import ConfusionMatrix\n",
    "for name,model in models:\n",
    "    y_pred = model.fit(X_train,y_train).predict(X_test)\n",
    "    print(f\"{name} test data accuracy_score:{round(accuracy_score(y_test,y_pred),6)}  f1_score:{round(f1_score(y_test,y_pred),6)}  recall_score:{round(recall_score(y_test,y_pred),6)}  Precision score:{round(precision_score(y_test,y_pred),6)}\")\n",
    " \n",
    "  "
   ]
  },
  {
   "cell_type": "code",
   "execution_count": 63,
   "metadata": {},
   "outputs": [
    {
     "name": "stdout",
     "output_type": "stream",
     "text": [
      "LR test data accuracy_score:0.60152  f1_score:0.62698  recall_score:0.669774  Precision score:0.589326\n"
     ]
    },
    {
     "data": {
      "image/png": "[encoded data removed]",
      "text/plain": [
       "<Figure size 576x396 with 1 Axes>"
      ]
     },
     "metadata": {},
     "output_type": "display_data"
    },
    {
     "name": "stdout",
     "output_type": "stream",
     "text": [
      "KNN test data accuracy_score:0.706051  f1_score:0.691473  recall_score:0.658802  Precision score:0.727554\n"
     ]
    },
    {
     "data": {
      "image/png": "[encoded data removed]",
      "text/plain": [
       "<Figure size 576x396 with 1 Axes>"
      ]
     },
     "metadata": {},
     "output_type": "display_data"
    },
    {
     "name": "stdout",
     "output_type": "stream",
     "text": [
      "CART test data accuracy_score:0.699128  f1_score:0.66495  recall_score:0.597121  Precision score:0.750165\n"
     ]
    },
    {
     "data": {
      "image/png": "[encoded data removed]",
      "text/plain": [
       "<Figure size 576x396 with 1 Axes>"
      ]
     },
     "metadata": {},
     "output_type": "display_data"
    },
    {
     "name": "stdout",
     "output_type": "stream",
     "text": [
      "NB test data accuracy_score:0.633785  f1_score:0.672676  recall_score:0.752599  Precision score:0.608098\n"
     ]
    },
    {
     "data": {
      "image/png": "[encoded data removed]",
      "text/plain": [
       "<Figure size 576x396 with 1 Axes>"
      ]
     },
     "metadata": {},
     "output_type": "display_data"
    },
    {
     "name": "stdout",
     "output_type": "stream",
     "text": [
      "RN test data accuracy_score:0.742677  f1_score:0.707517  recall_score:0.622463  Precision score:0.819492\n"
     ]
    },
    {
     "data": {
      "image/png": "[encoded data removed]",
      "text/plain": [
       "<Figure size 576x396 with 1 Axes>"
      ]
     },
     "metadata": {},
     "output_type": "display_data"
    }
   ],
   "source": [
    "#Accuracy score in test data \n",
    "from sklearn.metrics import confusion_matrix,f1_score,accuracy_score,precision_score,f1_score,recall_score\n",
    "from yellowbrick.classifier import ConfusionMatrix\n",
    "for name,model in models:\n",
    "    y_pred = model.fit(X_train,y_train).predict(X_test)\n",
    "    print(f\"{name} test data accuracy_score:{round(accuracy_score(y_test,y_pred),6)}  f1_score:{round(f1_score(y_test,y_pred),6)}  recall_score:{round(recall_score(y_test,y_pred),6)}  Precision score:{round(precision_score(y_test,y_pred),6)}\")\n",
    "    cm = ConfusionMatrix(model,classes =[0,1])\n",
    "    cm.fit(X_train,y_train)\n",
    "    cm.score(X_test,y_test)\n",
    "    cm.poof()"
   ]
  },
  {
   "cell_type": "code",
   "execution_count": 64,
   "metadata": {},
   "outputs": [
    {
     "ename": "NameError",
     "evalue": "name 'randomForest' is not defined",
     "output_type": "error",
     "traceback": [
      "\u001b[0;31m---------------------------------------------------------------------------\u001b[0m",
      "\u001b[0;31mNameError\u001b[0m                                 Traceback (most recent call last)",
      "\u001b[0;32m<ipython-input-64-329e82f9aaf4>\u001b[0m in \u001b[0;36m<module>\u001b[0;34m\u001b[0m\n\u001b[1;32m      1\u001b[0m \u001b[0;31m# display no of confusion matrix of train data by randomforest algorithm\u001b[0m\u001b[0;34m\u001b[0m\u001b[0;34m\u001b[0m\u001b[0;34m\u001b[0m\u001b[0m\n\u001b[1;32m      2\u001b[0m \u001b[0;32mfrom\u001b[0m \u001b[0msklearn\u001b[0m\u001b[0;34m.\u001b[0m\u001b[0mmetrics\u001b[0m \u001b[0;32mimport\u001b[0m \u001b[0mconfusion_matrix\u001b[0m\u001b[0;34m,\u001b[0m\u001b[0mprecision_score\u001b[0m\u001b[0;34m\u001b[0m\u001b[0;34m\u001b[0m\u001b[0m\n\u001b[0;32m----> 3\u001b[0;31m \u001b[0my_pred_rand_train\u001b[0m \u001b[0;34m=\u001b[0m \u001b[0mrandomForest\u001b[0m\u001b[0;34m.\u001b[0m\u001b[0mpredict\u001b[0m\u001b[0;34m(\u001b[0m\u001b[0mX_train\u001b[0m\u001b[0;34m)\u001b[0m\u001b[0;34m\u001b[0m\u001b[0;34m\u001b[0m\u001b[0m\n\u001b[0m\u001b[1;32m      4\u001b[0m \u001b[0mconm\u001b[0m \u001b[0;34m=\u001b[0m \u001b[0mconfusion_matrix\u001b[0m\u001b[0;34m(\u001b[0m\u001b[0my_train\u001b[0m\u001b[0;34m,\u001b[0m\u001b[0my_pred_rand_train\u001b[0m\u001b[0;34m)\u001b[0m\u001b[0;34m\u001b[0m\u001b[0;34m\u001b[0m\u001b[0m\n\u001b[1;32m      5\u001b[0m \u001b[0mprint\u001b[0m\u001b[0;34m(\u001b[0m\u001b[0mconm\u001b[0m\u001b[0;34m)\u001b[0m\u001b[0;34m\u001b[0m\u001b[0;34m\u001b[0m\u001b[0m\n",
      "\u001b[0;31mNameError\u001b[0m: name 'randomForest' is not defined"
     ]
    }
   ],
   "source": [
    "# display no of confusion matrix of train data by randomforest algorithm\n",
    "from sklearn.metrics import confusion_matrix,precision_score\n",
    "y_pred_rand_train = randomForest.predict(X_train)\n",
    "conm = confusion_matrix(y_train,y_pred_rand_train)\n",
    "print(conm)"
   ]
  },
  {
   "cell_type": "code",
   "execution_count": null,
   "metadata": {},
   "outputs": [],
   "source": [
    "# confusion matrix of test data \n",
    "y_pred_rand = randomForest.predict(X_test)\n",
    "conm = confusion_matrix(y_test,y_pred_rand)\n",
    "print(conm)"
   ]
  },
  {
   "cell_type": "code",
   "execution_count": null,
   "metadata": {},
   "outputs": [],
   "source": []
  },
  {
   "cell_type": "code",
   "execution_count": null,
   "metadata": {},
   "outputs": [],
   "source": []
  },
  {
   "cell_type": "code",
   "execution_count": null,
   "metadata": {},
   "outputs": [],
   "source": []
  },
  {
   "cell_type": "code",
   "execution_count": null,
   "metadata": {},
   "outputs": [],
   "source": []
  },
  {
   "cell_type": "code",
   "execution_count": null,
   "metadata": {},
   "outputs": [],
   "source": []
  },
  {
   "cell_type": "code",
   "execution_count": null,
   "metadata": {},
   "outputs": [],
   "source": []
  },
  {
   "cell_type": "code",
   "execution_count": null,
   "metadata": {},
   "outputs": [],
   "source": []
  },
  {
   "cell_type": "code",
   "execution_count": null,
   "metadata": {},
   "outputs": [],
   "source": []
  },
  {
   "cell_type": "code",
   "execution_count": null,
   "metadata": {},
   "outputs": [],
   "source": []
  },
  {
   "cell_type": "code",
   "execution_count": null,
   "metadata": {},
   "outputs": [],
   "source": []
  },
  {
   "cell_type": "code",
   "execution_count": null,
   "metadata": {},
   "outputs": [],
   "source": []
  },
  {
   "cell_type": "markdown",
   "metadata": {},
   "source": [
    "## Rough"
   ]
  },
  {
   "cell_type": "code",
   "execution_count": 148,
   "metadata": {},
   "outputs": [
    {
     "data": {
      "text/plain": [
       "0.4713941728870696"
      ]
     },
     "execution_count": 148,
     "metadata": {},
     "output_type": "execute_result"
    }
   ],
   "source": [
    "gauss_naive.fit(X_train,y_train)\n",
    "gauss_naive.score(X_train,y_train)"
   ]
  },
  {
   "cell_type": "code",
   "execution_count": 155,
   "metadata": {},
   "outputs": [
    {
     "name": "stdout",
     "output_type": "stream",
     "text": [
      "Confusion Matrix of four Class by GaussianNB  algorithm\n",
      "---------------------------------------------------------\n"
     ]
    },
    {
     "data": {
      "text/html": [
       "<div>\n",
       "<style scoped>\n",
       "    .dataframe tbody tr th:only-of-type {\n",
       "        vertical-align: middle;\n",
       "    }\n",
       "\n",
       "    .dataframe tbody tr th {\n",
       "        vertical-align: top;\n",
       "    }\n",
       "\n",
       "    .dataframe thead th {\n",
       "        text-align: right;\n",
       "    }\n",
       "</style>\n",
       "<table border=\"1\" class=\"dataframe\">\n",
       "  <thead>\n",
       "    <tr style=\"text-align: right;\">\n",
       "      <th></th>\n",
       "      <th>pred_0</th>\n",
       "      <th>pred_1</th>\n",
       "      <th>pred_2</th>\n",
       "      <th>pred_3</th>\n",
       "    </tr>\n",
       "  </thead>\n",
       "  <tbody>\n",
       "    <tr>\n",
       "      <td>true_0</td>\n",
       "      <td>1791</td>\n",
       "      <td>10302</td>\n",
       "      <td>2431</td>\n",
       "      <td>6183</td>\n",
       "    </tr>\n",
       "    <tr>\n",
       "      <td>true_1</td>\n",
       "      <td>1023</td>\n",
       "      <td>13968</td>\n",
       "      <td>2271</td>\n",
       "      <td>3445</td>\n",
       "    </tr>\n",
       "    <tr>\n",
       "      <td>true_2</td>\n",
       "      <td>419</td>\n",
       "      <td>2830</td>\n",
       "      <td>14247</td>\n",
       "      <td>3211</td>\n",
       "    </tr>\n",
       "    <tr>\n",
       "      <td>true_3</td>\n",
       "      <td>1707</td>\n",
       "      <td>7314</td>\n",
       "      <td>2410</td>\n",
       "      <td>9276</td>\n",
       "    </tr>\n",
       "  </tbody>\n",
       "</table>\n",
       "</div>"
      ],
      "text/plain": [
       "        pred_0  pred_1  pred_2  pred_3\n",
       "true_0    1791   10302    2431    6183\n",
       "true_1    1023   13968    2271    3445\n",
       "true_2     419    2830   14247    3211\n",
       "true_3    1707    7314    2410    9276"
      ]
     },
     "execution_count": 155,
     "metadata": {},
     "output_type": "execute_result"
    }
   ],
   "source": [
    "y_pred = gauss_naive.predict(X_test)\n",
    "print(\"Confusion Matrix of four Class by GaussianNB  algorithm\")\n",
    "print(\"---------------------------------------------------------\")\n",
    "pd.DataFrame(confusion_matrix(y_test,y_pred),columns=['pred_0','pred_1','pred_2','pred_3'],index=['true_0','true_1','true_2','true_3'])"
   ]
  },
  {
   "cell_type": "code",
   "execution_count": 149,
   "metadata": {},
   "outputs": [
    {
     "data": {
      "text/plain": [
       "0.9998755919415684"
      ]
     },
     "execution_count": 149,
     "metadata": {},
     "output_type": "execute_result"
    }
   ],
   "source": [
    "randomForest.fit(X_train,y_train)\n",
    "randomForest.score(X_train,y_train)"
   ]
  },
  {
   "cell_type": "code",
   "execution_count": 154,
   "metadata": {},
   "outputs": [
    {
     "name": "stdout",
     "output_type": "stream",
     "text": [
      "Confusion Matrix of four Class by Random Forest algorithm\n",
      "---------------------------------------------------------\n"
     ]
    },
    {
     "data": {
      "text/html": [
       "<div>\n",
       "<style scoped>\n",
       "    .dataframe tbody tr th:only-of-type {\n",
       "        vertical-align: middle;\n",
       "    }\n",
       "\n",
       "    .dataframe tbody tr th {\n",
       "        vertical-align: top;\n",
       "    }\n",
       "\n",
       "    .dataframe thead th {\n",
       "        text-align: right;\n",
       "    }\n",
       "</style>\n",
       "<table border=\"1\" class=\"dataframe\">\n",
       "  <thead>\n",
       "    <tr style=\"text-align: right;\">\n",
       "      <th></th>\n",
       "      <th>pred_0</th>\n",
       "      <th>pred_1</th>\n",
       "      <th>pred_2</th>\n",
       "      <th>pred_3</th>\n",
       "    </tr>\n",
       "  </thead>\n",
       "  <tbody>\n",
       "    <tr>\n",
       "      <td>true_0</td>\n",
       "      <td>13434</td>\n",
       "      <td>3198</td>\n",
       "      <td>1540</td>\n",
       "      <td>2535</td>\n",
       "    </tr>\n",
       "    <tr>\n",
       "      <td>true_1</td>\n",
       "      <td>5472</td>\n",
       "      <td>12209</td>\n",
       "      <td>869</td>\n",
       "      <td>2157</td>\n",
       "    </tr>\n",
       "    <tr>\n",
       "      <td>true_2</td>\n",
       "      <td>1679</td>\n",
       "      <td>523</td>\n",
       "      <td>17445</td>\n",
       "      <td>1060</td>\n",
       "    </tr>\n",
       "    <tr>\n",
       "      <td>true_3</td>\n",
       "      <td>4747</td>\n",
       "      <td>1855</td>\n",
       "      <td>1481</td>\n",
       "      <td>12624</td>\n",
       "    </tr>\n",
       "  </tbody>\n",
       "</table>\n",
       "</div>"
      ],
      "text/plain": [
       "        pred_0  pred_1  pred_2  pred_3\n",
       "true_0   13434    3198    1540    2535\n",
       "true_1    5472   12209     869    2157\n",
       "true_2    1679     523   17445    1060\n",
       "true_3    4747    1855    1481   12624"
      ]
     },
     "execution_count": 154,
     "metadata": {},
     "output_type": "execute_result"
    }
   ],
   "source": [
    "y_pred = randomForest.predict(X_test)\n",
    "print(\"Confusion Matrix of four Class by Random Forest algorithm\")\n",
    "print(\"---------------------------------------------------------\")\n",
    "pd.DataFrame(confusion_matrix(y_test,y_pred),columns=['pred_0','pred_1','pred_2','pred_3'],index=['true_0','true_1','true_2','true_3'])"
   ]
  },
  {
   "cell_type": "code",
   "execution_count": 157,
   "metadata": {},
   "outputs": [
    {
     "data": {
      "text/plain": [
       "0.8305160927843326"
      ]
     },
     "execution_count": 157,
     "metadata": {},
     "output_type": "execute_result"
    }
   ],
   "source": [
    "# KNN\n",
    "KNN.fit(X_train,y_train)\n",
    "KNN.score(X_train,y_train)"
   ]
  },
  {
   "cell_type": "code",
   "execution_count": 158,
   "metadata": {},
   "outputs": [
    {
     "name": "stdout",
     "output_type": "stream",
     "text": [
      "Confusion Matrix of four class by KNeighborsClassifier algorithm\n",
      "---------------------------------------------------------\n"
     ]
    },
    {
     "data": {
      "text/html": [
       "<div>\n",
       "<style scoped>\n",
       "    .dataframe tbody tr th:only-of-type {\n",
       "        vertical-align: middle;\n",
       "    }\n",
       "\n",
       "    .dataframe tbody tr th {\n",
       "        vertical-align: top;\n",
       "    }\n",
       "\n",
       "    .dataframe thead th {\n",
       "        text-align: right;\n",
       "    }\n",
       "</style>\n",
       "<table border=\"1\" class=\"dataframe\">\n",
       "  <thead>\n",
       "    <tr style=\"text-align: right;\">\n",
       "      <th></th>\n",
       "      <th>pred_0</th>\n",
       "      <th>pred_1</th>\n",
       "      <th>pred_2</th>\n",
       "      <th>pred_3</th>\n",
       "    </tr>\n",
       "  </thead>\n",
       "  <tbody>\n",
       "    <tr>\n",
       "      <td>true_0</td>\n",
       "      <td>10388</td>\n",
       "      <td>4909</td>\n",
       "      <td>2294</td>\n",
       "      <td>3116</td>\n",
       "    </tr>\n",
       "    <tr>\n",
       "      <td>true_1</td>\n",
       "      <td>5639</td>\n",
       "      <td>11497</td>\n",
       "      <td>1184</td>\n",
       "      <td>2387</td>\n",
       "    </tr>\n",
       "    <tr>\n",
       "      <td>true_2</td>\n",
       "      <td>1967</td>\n",
       "      <td>1163</td>\n",
       "      <td>16237</td>\n",
       "      <td>1340</td>\n",
       "    </tr>\n",
       "    <tr>\n",
       "      <td>true_3</td>\n",
       "      <td>4535</td>\n",
       "      <td>2819</td>\n",
       "      <td>2017</td>\n",
       "      <td>11336</td>\n",
       "    </tr>\n",
       "  </tbody>\n",
       "</table>\n",
       "</div>"
      ],
      "text/plain": [
       "        pred_0  pred_1  pred_2  pred_3\n",
       "true_0   10388    4909    2294    3116\n",
       "true_1    5639   11497    1184    2387\n",
       "true_2    1967    1163   16237    1340\n",
       "true_3    4535    2819    2017   11336"
      ]
     },
     "execution_count": 158,
     "metadata": {},
     "output_type": "execute_result"
    }
   ],
   "source": [
    "y_pred = KNN.predict(X_test)\n",
    "print(\"Confusion Matrix of four class by KNeighborsClassifier algorithm\")\n",
    "print(\"---------------------------------------------------------\")\n",
    "pd.DataFrame(confusion_matrix(y_test,y_pred),columns=['pred_0','pred_1','pred_2','pred_3'],index=['true_0','true_1','true_2','true_3'])"
   ]
  },
  {
   "cell_type": "code",
   "execution_count": 159,
   "metadata": {},
   "outputs": [
    {
     "data": {
      "text/plain": [
       "0.40525323059635604"
      ]
     },
     "execution_count": 159,
     "metadata": {},
     "output_type": "execute_result"
    }
   ],
   "source": [
    "# Logistic Regression\n",
    "\n",
    "Logist.fit(X_train,y_train)\n",
    "Logist.score(X_train,y_train)"
   ]
  },
  {
   "cell_type": "code",
   "execution_count": 166,
   "metadata": {},
   "outputs": [
    {
     "name": "stdout",
     "output_type": "stream",
     "text": [
      "Confusion Matrix of four class target features by Logistic Regression algorithm\n",
      "-------------------------------------------------------------------------------\n"
     ]
    },
    {
     "data": {
      "text/html": [
       "<div>\n",
       "<style scoped>\n",
       "    .dataframe tbody tr th:only-of-type {\n",
       "        vertical-align: middle;\n",
       "    }\n",
       "\n",
       "    .dataframe tbody tr th {\n",
       "        vertical-align: top;\n",
       "    }\n",
       "\n",
       "    .dataframe thead th {\n",
       "        text-align: right;\n",
       "    }\n",
       "</style>\n",
       "<table border=\"1\" class=\"dataframe\">\n",
       "  <thead>\n",
       "    <tr style=\"text-align: right;\">\n",
       "      <th></th>\n",
       "      <th>pred_0</th>\n",
       "      <th>pred_1</th>\n",
       "      <th>pred_2</th>\n",
       "      <th>pred_3</th>\n",
       "    </tr>\n",
       "  </thead>\n",
       "  <tbody>\n",
       "    <tr>\n",
       "      <td>true_0</td>\n",
       "      <td>2332</td>\n",
       "      <td>8493</td>\n",
       "      <td>4145</td>\n",
       "      <td>5737</td>\n",
       "    </tr>\n",
       "    <tr>\n",
       "      <td>true_1</td>\n",
       "      <td>1944</td>\n",
       "      <td>8992</td>\n",
       "      <td>3356</td>\n",
       "      <td>6415</td>\n",
       "    </tr>\n",
       "    <tr>\n",
       "      <td>true_2</td>\n",
       "      <td>303</td>\n",
       "      <td>3206</td>\n",
       "      <td>15253</td>\n",
       "      <td>1945</td>\n",
       "    </tr>\n",
       "    <tr>\n",
       "      <td>true_3</td>\n",
       "      <td>1651</td>\n",
       "      <td>7269</td>\n",
       "      <td>4530</td>\n",
       "      <td>7257</td>\n",
       "    </tr>\n",
       "  </tbody>\n",
       "</table>\n",
       "</div>"
      ],
      "text/plain": [
       "        pred_0  pred_1  pred_2  pred_3\n",
       "true_0    2332    8493    4145    5737\n",
       "true_1    1944    8992    3356    6415\n",
       "true_2     303    3206   15253    1945\n",
       "true_3    1651    7269    4530    7257"
      ]
     },
     "execution_count": 166,
     "metadata": {},
     "output_type": "execute_result"
    }
   ],
   "source": [
    "y_pred = Logist.predict(X_test)\n",
    "print(\"Confusion Matrix of four class target features by Logistic Regression algorithm\")\n",
    "print(\"-------------------------------------------------------------------------------\")\n",
    "pd.DataFrame(confusion_matrix(y_test,y_pred),columns=['pred_0','pred_1','pred_2','pred_3'],index=['true_0','true_1','true_2','true_3'])"
   ]
  },
  {
   "cell_type": "code",
   "execution_count": 168,
   "metadata": {},
   "outputs": [
    {
     "data": {
      "image/png": "[encoded data removed]",
      "text/plain": [
       "<Figure size 576x396 with 1 Axes>"
      ]
     },
     "metadata": {},
     "output_type": "display_data"
    },
    {
     "data": {
      "text/plain": [
       "<matplotlib.axes._subplots.AxesSubplot at 0x1a21f55850>"
      ]
     },
     "execution_count": 168,
     "metadata": {},
     "output_type": "execute_result"
    }
   ],
   "source": [
    "cm = ConfusionMatrix(randomForest,classes =[0,1,2,3])\n",
    "cm.fit(X_train,y_train)\n",
    "cm.score(X_test,y_test)\n",
    "cm.poof()"
   ]
  },
  {
   "cell_type": "code",
   "execution_count": null,
   "metadata": {},
   "outputs": [],
   "source": []
  },
  {
   "cell_type": "code",
   "execution_count": null,
   "metadata": {},
   "outputs": [],
   "source": []
  },
  {
   "cell_type": "code",
   "execution_count": null,
   "metadata": {},
   "outputs": [],
   "source": []
  },
  {
   "cell_type": "code",
   "execution_count": 163,
   "metadata": {},
   "outputs": [],
   "source": [
    "pipe = Pipeline([('ss',StandardScaler()),\n",
    "                ('LR',LogisticRegression(C =1000))])"
   ]
  },
  {
   "cell_type": "code",
   "execution_count": 165,
   "metadata": {},
   "outputs": [
    {
     "data": {
      "text/plain": [
       "0.4142547555983626"
      ]
     },
     "execution_count": 165,
     "metadata": {},
     "output_type": "execute_result"
    }
   ],
   "source": [
    "pipe.fit(X_train,y_train)\n",
    "pipe.score(X_train,y_train)"
   ]
  },
  {
   "cell_type": "code",
   "execution_count": null,
   "metadata": {},
   "outputs": [],
   "source": []
  },
  {
   "cell_type": "code",
   "execution_count": null,
   "metadata": {},
   "outputs": [],
   "source": []
  },
  {
   "cell_type": "code",
   "execution_count": null,
   "metadata": {},
   "outputs": [],
   "source": []
  },
  {
   "cell_type": "code",
   "execution_count": 67,
   "metadata": {},
   "outputs": [
    {
     "data": {
      "text/plain": [
       "0.9998331804153807"
      ]
     },
     "execution_count": 67,
     "metadata": {},
     "output_type": "execute_result"
    }
   ],
   "source": [
    "randomForest.fit(X_train,y_train)\n",
    "randomForest.score(X_train,y_train)"
   ]
  },
  {
   "cell_type": "code",
   "execution_count": 477,
   "metadata": {},
   "outputs": [
    {
     "data": {
      "text/plain": [
       "0.9473637037037037"
      ]
     },
     "execution_count": 477,
     "metadata": {},
     "output_type": "execute_result"
    }
   ],
   "source": [
    "KNN.fit(X_train_scale,y_train)\n",
    "KNN.score(X_train_scale,y_train)"
   ]
  },
  {
   "cell_type": "code",
   "execution_count": 437,
   "metadata": {},
   "outputs": [
    {
     "data": {
      "text/plain": [
       "0.4488666666666667"
      ]
     },
     "execution_count": 437,
     "metadata": {},
     "output_type": "execute_result"
    }
   ],
   "source": [
    "Logist.fit(X_train_scale,y_train)\n",
    "Logist.score(X_train_scale,y_train)"
   ]
  },
  {
   "cell_type": "code",
   "execution_count": 438,
   "metadata": {},
   "outputs": [
    {
     "name": "stdout",
     "output_type": "stream",
     "text": [
      "[[ 3643     0     0     0]\n",
      " [10945     0     0     0]\n",
      " [ 3811     0     0     0]\n",
      " [ 6601     0     0     0]]\n"
     ]
    }
   ],
   "source": [
    "y_pred_knn = KNN.predict(X_test)\n",
    "conm = confusion_matrix(y_test,y_pred_knn)\n",
    "print(conm)"
   ]
  },
  {
   "cell_type": "code",
   "execution_count": 69,
   "metadata": {},
   "outputs": [
    {
     "name": "stdout",
     "output_type": "stream",
     "text": [
      "[[119862     28]\n",
      " [    12 119878]]\n"
     ]
    }
   ],
   "source": [
    "from sklearn.metrics import confusion_matrix,precision_score\n",
    "y_pred_rand_train = randomForest.predict(X_train)\n",
    "conm = confusion_matrix(y_train,y_pred_rand_train)\n",
    "print(conm)"
   ]
  },
  {
   "cell_type": "code",
   "execution_count": 70,
   "metadata": {},
   "outputs": [
    {
     "name": "stdout",
     "output_type": "stream",
     "text": [
      "[[34543  5469]\n",
      " [15375 24637]]\n"
     ]
    }
   ],
   "source": [
    "y_pred_rand = randomForest.predict(X_test)\n",
    "conm = confusion_matrix(y_test,y_pred_rand)\n",
    "print(conm)\n"
   ]
  },
  {
   "cell_type": "code",
   "execution_count": 440,
   "metadata": {},
   "outputs": [
    {
     "data": {
      "text/plain": [
       "array([[   24,     0,     0,  3619],\n",
       "       [    6,     0,     0, 10939],\n",
       "       [    1,     0,     0,  3810],\n",
       "       [    7,     0,     0,  6594]])"
      ]
     },
     "execution_count": 440,
     "metadata": {},
     "output_type": "execute_result"
    }
   ],
   "source": [
    "y_pred_logistic  = Logist.predict(X_test)\n",
    "confusion_matrix(y_test,y_pred_logistic)"
   ]
  },
  {
   "cell_type": "code",
   "execution_count": 447,
   "metadata": {},
   "outputs": [
    {
     "ename": "AttributeError",
     "evalue": "'LogisticRegressionCV' object has no attribute 'get_paras'",
     "output_type": "error",
     "traceback": [
      "\u001b[0;31m---------------------------------------------------------------------------\u001b[0m",
      "\u001b[0;31mAttributeError\u001b[0m                            Traceback (most recent call last)",
      "\u001b[0;32m<ipython-input-447-c3a209ade429>\u001b[0m in \u001b[0;36m<module>\u001b[0;34m\u001b[0m\n\u001b[1;32m      6\u001b[0m \u001b[0mgd\u001b[0m \u001b[0;34m=\u001b[0m \u001b[0mGridSearchCV\u001b[0m\u001b[0;34m(\u001b[0m\u001b[0mLogist\u001b[0m\u001b[0;34m,\u001b[0m\u001b[0mhyperpara\u001b[0m\u001b[0;34m,\u001b[0m\u001b[0mcv\u001b[0m \u001b[0;34m=\u001b[0m\u001b[0;36m5\u001b[0m\u001b[0;34m)\u001b[0m\u001b[0;34m\u001b[0m\u001b[0;34m\u001b[0m\u001b[0m\n\u001b[1;32m      7\u001b[0m \u001b[0mclf\u001b[0m \u001b[0;34m=\u001b[0m \u001b[0mgd\u001b[0m\u001b[0;34m.\u001b[0m\u001b[0mfit\u001b[0m\u001b[0;34m(\u001b[0m\u001b[0mX_train\u001b[0m\u001b[0;34m,\u001b[0m\u001b[0my_train\u001b[0m\u001b[0;34m)\u001b[0m\u001b[0;34m\u001b[0m\u001b[0;34m\u001b[0m\u001b[0m\n\u001b[0;32m----> 8\u001b[0;31m \u001b[0mclf\u001b[0m\u001b[0;34m.\u001b[0m\u001b[0mbest_estimator_\u001b[0m\u001b[0;34m.\u001b[0m\u001b[0mget_paras\u001b[0m\u001b[0;34m\u001b[0m\u001b[0;34m\u001b[0m\u001b[0m\n\u001b[0m",
      "\u001b[0;31mAttributeError\u001b[0m: 'LogisticRegressionCV' object has no attribute 'get_paras'"
     ]
    }
   ],
   "source": [
    "# Grid Search for logistic model\n",
    "\n",
    "from sklearn.model_selection import GridSearchCV\n",
    "hyperpara = {'Cs' : np.arange(1,100,5)}\n",
    "hyperpara\n",
    "gd = GridSearchCV(Logist,hyperpara,cv =5)\n",
    "clf = gd.fit(X_train,y_train)\n",
    "clf.best_estimator_.get_params()\n"
   ]
  },
  {
   "cell_type": "code",
   "execution_count": 449,
   "metadata": {},
   "outputs": [
    {
     "data": {
      "text/plain": [
       "{'Cs': 51,\n",
       " 'class_weight': None,\n",
       " 'cv': 'warn',\n",
       " 'dual': False,\n",
       " 'fit_intercept': True,\n",
       " 'intercept_scaling': 1.0,\n",
       " 'l1_ratios': None,\n",
       " 'max_iter': 100,\n",
       " 'multi_class': 'warn',\n",
       " 'n_jobs': None,\n",
       " 'penalty': 'l2',\n",
       " 'random_state': None,\n",
       " 'refit': True,\n",
       " 'scoring': None,\n",
       " 'solver': 'lbfgs',\n",
       " 'tol': 0.0001,\n",
       " 'verbose': 0}"
      ]
     },
     "execution_count": 449,
     "metadata": {},
     "output_type": "execute_result"
    }
   ],
   "source": [
    "clf.best_estimator_.get_params()"
   ]
  },
  {
   "cell_type": "code",
   "execution_count": 450,
   "metadata": {},
   "outputs": [
    {
     "data": {
      "text/plain": [
       "0.45941333333333334"
      ]
     },
     "execution_count": 450,
     "metadata": {},
     "output_type": "execute_result"
    }
   ],
   "source": [
    "lg = LogisticRegressionCV(Cs=51)\n",
    "lg.fit(X_train,y_train)\n",
    "lg.score(X_train,y_train)"
   ]
  },
  {
   "cell_type": "code",
   "execution_count": null,
   "metadata": {},
   "outputs": [],
   "source": [
    "#pipe = Pipeline(('ss',StandardScaler()),('LR',LogisticRegression()))\n",
    "#pipe.fit(X_train,y_train)\n",
    "#pipe.score(X_train,y_train)"
   ]
  }
 ],
 "metadata": {
  "kernelspec": {
   "display_name": "Python 3",
   "language": "python",
   "name": "python3"
  },
  "language_info": {
   "codemirror_mode": {
    "name": "ipython",
    "version": 3
   },
   "file_extension": ".py",
   "mimetype": "text/x-python",
   "name": "python",
   "nbconvert_exporter": "python",
   "pygments_lexer": "ipython3",
   "version": "3.7.4"
  }
 },
 "nbformat": 4,
 "nbformat_minor": 4
}
